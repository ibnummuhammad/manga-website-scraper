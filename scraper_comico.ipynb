{
 "cells": [
  {
   "cell_type": "code",
   "execution_count": 108,
   "metadata": {},
   "outputs": [],
   "source": [
    "import datetime\n",
    "import os\n",
    "import urllib\n",
    "import sys\n",
    "import time\n",
    "\n",
    "import requests\n",
    "from selenium import webdriver\n",
    "from selenium.webdriver.common.by import By"
   ]
  },
  {
   "cell_type": "code",
   "execution_count": 3,
   "metadata": {},
   "outputs": [],
   "source": [
    "driver = webdriver.Chrome()"
   ]
  },
  {
   "cell_type": "code",
   "execution_count": 4,
   "metadata": {},
   "outputs": [],
   "source": [
    "driver.get(\"https://www.comico.jp/\")"
   ]
  },
  {
   "cell_type": "code",
   "execution_count": 5,
   "metadata": {},
   "outputs": [],
   "source": [
    "headers  = {'User-Agent': 'Mozilla/5.0 (X11; Linux x86_64) AppleWebKit/537.11 (KHTML, like Gecko) Chrome/23.0.1271.64 Safari/537.11',\n",
    "       'Accept': 'text/html,application/xhtml+xml,application/xml;q=0.9,*/*;q=0.8',\n",
    "       'Accept-Charset': 'ISO-8859-1,utf-8;q=0.7,*;q=0.3',\n",
    "       'Accept-Encoding': 'none',\n",
    "       'Accept-Language': 'en-US,en;q=0.8',\n",
    "       'Connection': 'keep-alive'}"
   ]
  },
  {
   "cell_type": "code",
   "execution_count": 253,
   "metadata": {},
   "outputs": [],
   "source": [
    "title_dict = {\n",
    "    \"130317\": \"doraemon_adventure\",\n",
    "    \"10692\": \"naruto\",\n",
    "    \"11143\": \"one_piece\",\n",
    "    \"10613\": \"death_note\",\n",
    "    \"127415\": \"doraemon_adventure_bundled\",\n",
    "    \"130314\": \"doraemon\"\n",
    "}"
   ]
  },
  {
   "cell_type": "code",
   "execution_count": 266,
   "metadata": {},
   "outputs": [
    {
     "name": "stdout",
     "output_type": "stream",
     "text": [
      "doraemon\n",
      "62\n",
      "../read-manga-online-website/comico/doraemon/62\n"
     ]
    }
   ],
   "source": [
    "comic_url = driver.current_url\n",
    "\n",
    "comic_url_split = comic_url.split(\"/\")\n",
    "comic_url_split\n",
    "\n",
    "comic_title_encoded = comic_url_split[4]\n",
    "comic_title_encoded\n",
    "\n",
    "title = title_dict[comic_title_encoded]\n",
    "print(title)\n",
    "\n",
    "comic_volume = comic_url_split[6]\n",
    "print(comic_volume)\n",
    "\n",
    "image_dir = f\"../read-manga-online-website/comico/{title}/{comic_volume}\"\n",
    "print(image_dir)\n",
    "\n",
    "if not os.path.exists(image_dir):\n",
    "    os.makedirs(image_dir)"
   ]
  },
  {
   "cell_type": "code",
   "execution_count": 270,
   "metadata": {},
   "outputs": [],
   "source": [
    "image_comic_i = 40\n",
    "image_comic_i"
   ]
  },
  {
   "cell_type": "code",
   "execution_count": 272,
   "metadata": {},
   "outputs": [
    {
     "name": "stdout",
     "output_type": "stream",
     "text": [
      "image_comic_i: 41 | image_comic_name: FZ-DORA-07-047-05_ja.jpg\n",
      "image_comic_i: 42 | image_comic_name: FZ-DORA-07-047-06_ja.jpg\n",
      "image_comic_i: 43 | image_comic_name: FZ-DORA-07-047-07_ja.jpg\n",
      "image_comic_i: 44 | image_comic_name: FZ-DORA-07-047-08_ja.jpg\n",
      "image_comic_i: 45 | image_comic_name: FZ-DORA-19-002-01_ja.jpg\n",
      "image_comic_i: 46 | image_comic_name: FZ-DORA-19-002-02_ja.jpg\n",
      "image_comic_i: 47 | image_comic_name: FZ-DORA-19-002-03_ja.jpg\n",
      "image_comic_i: 48 | image_comic_name: FZ-DORA-19-002-04_ja.jpg\n",
      "image_comic_i: 49 | image_comic_name: FZ-DORA-19-002-05_ja.jpg\n",
      "image_comic_i: 50 | image_comic_name: FZ-DORA-19-002-06_ja.jpg\n",
      "image_comic_i: 51 | image_comic_name: FZ-DORA-19-002-07_ja.jpg\n",
      "image_comic_i: 52 | image_comic_name: FZ-DORA-19-002-08_ja.jpg\n",
      "image_comic_i: 53 | image_comic_name: FZ-DORA-19-002-09_ja.jpg\n",
      "image_comic_i: 54 | image_comic_name: FZ-DORA-19-002-10_ja.jpg\n",
      "image_comic_i: 55 | image_comic_name: FZ-DORA-19-002-11_ja.jpg\n",
      "image_comic_i: 56 | image_comic_name: FZ-DORA-19-002-12_ja.jpg\n",
      "image_comic_i: 57 | image_comic_name: FZ-DORA-19-002-13_ja.jpg\n",
      "image_comic_i: 58 | image_comic_name: FZ-DORA-19-002-14_ja.jpg\n",
      "image_comic_i: 59 | image_comic_name: FZ-DORA-19-002-15_ja.jpg\n",
      "image_comic_i: 60 | image_comic_name: FZ-DORA-19-002-16_ja.jpg\n",
      "image_comic_i: 61 | image_comic_name: dora-vol000-interval_a_ja-999-01.jpg\n",
      "image_comic_i: 62 | image_comic_name: dora-vol062-colophon-999-02.jpg\n",
      "image_comic_i: 63 | image_comic_name: dora-vol000-kanmatu-999-03.jpg\n",
      "image_comic_i: 64 | "
     ]
    },
    {
     "ename": "IndexError",
     "evalue": "list index out of range",
     "output_type": "error",
     "traceback": [
      "\u001b[0;31m---------------------------------------------------------------------------\u001b[0m",
      "\u001b[0;31mIndexError\u001b[0m                                Traceback (most recent call last)",
      "Cell \u001b[0;32mIn[272], line 7\u001b[0m\n\u001b[1;32m      3\u001b[0m \u001b[38;5;28mprint\u001b[39m(\u001b[38;5;124mf\u001b[39m\u001b[38;5;124m\"\u001b[39m\u001b[38;5;124mimage_comic_i: \u001b[39m\u001b[38;5;132;01m{\u001b[39;00mimage_comic_i\u001b[38;5;132;01m}\u001b[39;00m\u001b[38;5;124m\"\u001b[39m, end \u001b[38;5;241m=\u001b[39m\u001b[38;5;124m\"\u001b[39m\u001b[38;5;124m | \u001b[39m\u001b[38;5;124m\"\u001b[39m)\n\u001b[1;32m      5\u001b[0m image_comic \u001b[38;5;241m=\u001b[39m driver\u001b[38;5;241m.\u001b[39mfind_elements(By\u001b[38;5;241m.\u001b[39mXPATH, \u001b[38;5;124mf\u001b[39m\u001b[38;5;124m\"\u001b[39m\u001b[38;5;124m//img[@class=\u001b[39m\u001b[38;5;124m'\u001b[39m\u001b[38;5;124mhorizontal-comic-image\u001b[39m\u001b[38;5;124m'\u001b[39m\u001b[38;5;124m and @data-replace-id=\u001b[39m\u001b[38;5;124m'\u001b[39m\u001b[38;5;132;01m{\u001b[39;00mimage_comic_i\u001b[38;5;132;01m}\u001b[39;00m\u001b[38;5;124m'\u001b[39m\u001b[38;5;124m]\u001b[39m\u001b[38;5;124m\"\u001b[39m)\n\u001b[0;32m----> 7\u001b[0m image_comic_src \u001b[38;5;241m=\u001b[39m \u001b[43mimage_comic\u001b[49m\u001b[43m[\u001b[49m\u001b[38;5;241;43m1\u001b[39;49m\u001b[43m]\u001b[49m\u001b[38;5;241m.\u001b[39mget_attribute(\u001b[38;5;124m\"\u001b[39m\u001b[38;5;124msrc\u001b[39m\u001b[38;5;124m\"\u001b[39m)\n\u001b[1;32m      9\u001b[0m image_comic_src_split_1 \u001b[38;5;241m=\u001b[39m image_comic_src\u001b[38;5;241m.\u001b[39msplit(\u001b[38;5;124m\"\u001b[39m\u001b[38;5;124m?\u001b[39m\u001b[38;5;124m\"\u001b[39m)\n\u001b[1;32m     11\u001b[0m image_comic_src_split_2 \u001b[38;5;241m=\u001b[39m image_comic_src_split_1[\u001b[38;5;241m0\u001b[39m]\u001b[38;5;241m.\u001b[39msplit(\u001b[38;5;124m\"\u001b[39m\u001b[38;5;124m/\u001b[39m\u001b[38;5;124m\"\u001b[39m)\n",
      "\u001b[0;31mIndexError\u001b[0m: list index out of range"
     ]
    }
   ],
   "source": [
    "while True:\n",
    "    image_comic_i = image_comic_i + 1\n",
    "    print(f\"image_comic_i: {image_comic_i}\", end =\" | \")\n",
    "\n",
    "    image_comic = driver.find_elements(By.XPATH, f\"//img[@class='horizontal-comic-image' and @data-replace-id='{image_comic_i}']\")\n",
    "\n",
    "    image_comic_src = image_comic[1].get_attribute(\"src\")\n",
    "\n",
    "    image_comic_src_split_1 = image_comic_src.split(\"?\")\n",
    "\n",
    "    image_comic_src_split_2 = image_comic_src_split_1[0].split(\"/\")\n",
    "\n",
    "    image_comic_name = image_comic_src_split_2[-3]\n",
    "    print(f\"image_comic_name: {image_comic_name}\")\n",
    "\n",
    "    if image_comic_name.split(\".\")[-1] != \"jpg\":\n",
    "        image_comic_i = image_comic_i - 1\n",
    "        sys.exit(1)\n",
    "\n",
    "    urllib.request.urlretrieve(image_comic_src, f\"{image_dir}/{image_comic_name}\")"
   ]
  },
  {
   "cell_type": "code",
   "execution_count": null,
   "metadata": {},
   "outputs": [],
   "source": [
    "driver.refresh()"
   ]
  },
  {
   "cell_type": "code",
   "execution_count": 191,
   "metadata": {},
   "outputs": [
    {
     "data": {
      "text/plain": [
       "'https://resources.comico.io/deprecated/spn/blank/img_516x306.png'"
      ]
     },
     "execution_count": 191,
     "metadata": {},
     "output_type": "execute_result"
    }
   ],
   "source": [
    "image_comic_src"
   ]
  }
 ],
 "metadata": {
  "kernelspec": {
   "display_name": "py311-selenium4160",
   "language": "python",
   "name": "python3"
  },
  "language_info": {
   "codemirror_mode": {
    "name": "ipython",
    "version": 3
   },
   "file_extension": ".py",
   "mimetype": "text/x-python",
   "name": "python",
   "nbconvert_exporter": "python",
   "pygments_lexer": "ipython3",
   "version": "3.11.5"
  }
 },
 "nbformat": 4,
 "nbformat_minor": 2
}
