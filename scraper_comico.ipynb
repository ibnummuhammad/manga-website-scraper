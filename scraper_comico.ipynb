{
 "cells": [
  {
   "cell_type": "code",
   "execution_count": 108,
   "metadata": {},
   "outputs": [],
   "source": [
    "import datetime\n",
    "import os\n",
    "import urllib\n",
    "import sys\n",
    "import time\n",
    "\n",
    "import requests\n",
    "from selenium import webdriver\n",
    "from selenium.webdriver.common.by import By"
   ]
  },
  {
   "cell_type": "code",
   "execution_count": 3,
   "metadata": {},
   "outputs": [],
   "source": [
    "driver = webdriver.Chrome()"
   ]
  },
  {
   "cell_type": "code",
   "execution_count": 4,
   "metadata": {},
   "outputs": [],
   "source": [
    "driver.get(\"https://www.comico.jp/\")"
   ]
  },
  {
   "cell_type": "code",
   "execution_count": 5,
   "metadata": {},
   "outputs": [],
   "source": [
    "headers  = {'User-Agent': 'Mozilla/5.0 (X11; Linux x86_64) AppleWebKit/537.11 (KHTML, like Gecko) Chrome/23.0.1271.64 Safari/537.11',\n",
    "       'Accept': 'text/html,application/xhtml+xml,application/xml;q=0.9,*/*;q=0.8',\n",
    "       'Accept-Charset': 'ISO-8859-1,utf-8;q=0.7,*;q=0.3',\n",
    "       'Accept-Encoding': 'none',\n",
    "       'Accept-Language': 'en-US,en;q=0.8',\n",
    "       'Connection': 'keep-alive'}"
   ]
  },
  {
   "cell_type": "code",
   "execution_count": 194,
   "metadata": {},
   "outputs": [],
   "source": [
    "title_dict = {\n",
    "    \"130317\": \"doraemon_adventure\",\n",
    "    \"10692\": \"naruto\",\n",
    "    \"11143\": \"one_piece\",\n",
    "    \"10613\": \"death_note\"\n",
    "}"
   ]
  },
  {
   "cell_type": "code",
   "execution_count": 197,
   "metadata": {},
   "outputs": [
    {
     "name": "stdout",
     "output_type": "stream",
     "text": [
      "death_note\n",
      "11\n",
      "../read-manga-online-website/comico/death_note/11\n"
     ]
    }
   ],
   "source": [
    "comic_url = driver.current_url\n",
    "\n",
    "comic_url_split = comic_url.split(\"/\")\n",
    "comic_url_split\n",
    "\n",
    "comic_title_encoded = comic_url_split[4]\n",
    "comic_title_encoded\n",
    "\n",
    "title = title_dict[comic_title_encoded]\n",
    "print(title)\n",
    "\n",
    "comic_volume = comic_url_split[6]\n",
    "print(comic_volume)\n",
    "\n",
    "image_dir = f\"../read-manga-online-website/comico/{title}/{comic_volume}\"\n",
    "print(image_dir)\n",
    "\n",
    "if not os.path.exists(image_dir):\n",
    "    os.makedirs(image_dir)"
   ]
  },
  {
   "cell_type": "code",
   "execution_count": 198,
   "metadata": {},
   "outputs": [],
   "source": [
    "image_comic_i = 0"
   ]
  },
  {
   "cell_type": "code",
   "execution_count": 199,
   "metadata": {},
   "outputs": [
    {
     "data": {
      "text/plain": [
       "0"
      ]
     },
     "execution_count": 199,
     "metadata": {},
     "output_type": "execute_result"
    }
   ],
   "source": [
    "image_comic_i"
   ]
  },
  {
   "cell_type": "code",
   "execution_count": 201,
   "metadata": {},
   "outputs": [],
   "source": [
    "driver.refresh()"
   ]
  },
  {
   "cell_type": "code",
   "execution_count": 203,
   "metadata": {},
   "outputs": [
    {
     "name": "stdout",
     "output_type": "stream",
     "text": [
      "image_comic_i: 1 | image_comic_name: 08_873631_873621_1_dorigin_01_001.jpg\n",
      "image_comic_i: 2 | image_comic_name: 08_873631_873621_2_001_001.jpg\n",
      "image_comic_i: 3 | image_comic_name: 08_873631_873621_2_002_001.jpg\n",
      "image_comic_i: 4 | image_comic_name: 08_873631_873621_2_003_001.jpg\n",
      "image_comic_i: 5 | image_comic_name: 08_873631_873621_2_004_001.jpg\n",
      "image_comic_i: 6 | image_comic_name: 08_873631_873621_2_005_001.jpg\n",
      "image_comic_i: 7 | image_comic_name: 08_873631_873621_2_006_001.jpg\n",
      "image_comic_i: 8 | image_comic_name: 08_873631_873621_2_007_001.jpg\n",
      "image_comic_i: 9 | image_comic_name: 08_873631_873621_2_008_001.jpg\n",
      "image_comic_i: 10 | image_comic_name: 08_873631_873621_2_009_001.jpg\n",
      "image_comic_i: 11 | image_comic_name: 08_873631_873621_2_010_001.jpg\n",
      "image_comic_i: 12 | image_comic_name: 08_873631_873621_2_011_001.jpg\n",
      "image_comic_i: 13 | image_comic_name: 08_873631_873621_2_012_001.jpg\n",
      "image_comic_i: 14 | image_comic_name: 08_873631_873621_2_013_001.jpg\n",
      "image_comic_i: 15 | image_comic_name: 08_873631_873621_2_014_001.jpg\n",
      "image_comic_i: 16 | image_comic_name: 08_873631_873621_2_015_001.jpg\n",
      "image_comic_i: 17 | image_comic_name: 08_873631_873621_2_016_001.jpg\n",
      "image_comic_i: 18 | image_comic_name: 08_873631_873621_2_017_001.jpg\n",
      "image_comic_i: 19 | image_comic_name: 08_873631_873621_2_018_001.jpg\n",
      "image_comic_i: 20 | image_comic_name: 08_873631_873621_2_019_001.jpg\n",
      "image_comic_i: 21 | image_comic_name: 08_873631_873621_2_020_001.jpg\n",
      "image_comic_i: 22 | image_comic_name: 08_873631_873621_2_021_001.jpg\n",
      "image_comic_i: 23 | image_comic_name: 08_873631_873621_2_022_001.jpg\n",
      "image_comic_i: 24 | image_comic_name: 08_873631_873621_2_023_001.jpg\n",
      "image_comic_i: 25 | image_comic_name: 08_873631_873621_2_024_001.jpg\n",
      "image_comic_i: 26 | image_comic_name: 08_873631_873621_2_025_001.jpg\n",
      "image_comic_i: 27 | image_comic_name: 08_873631_873621_2_026_001.jpg\n",
      "image_comic_i: 28 | image_comic_name: 08_873631_873621_2_027_001.jpg\n",
      "image_comic_i: 29 | image_comic_name: 08_873631_873621_2_028_001.jpg\n",
      "image_comic_i: 30 | image_comic_name: 08_873631_873621_2_029_001.jpg\n",
      "image_comic_i: 31 | image_comic_name: 08_873631_873621_2_030_001.jpg\n",
      "image_comic_i: 32 | image_comic_name: 08_873631_873621_2_031_001.jpg\n",
      "image_comic_i: 33 | image_comic_name: 08_873631_873621_2_032_001.jpg\n",
      "image_comic_i: 34 | image_comic_name: 08_873631_873621_2_033_001.jpg\n",
      "image_comic_i: 35 | image_comic_name: 08_873631_873621_2_034_001.jpg\n",
      "image_comic_i: 36 | image_comic_name: 08_873631_873621_2_035_001.jpg\n",
      "image_comic_i: 37 | image_comic_name: 08_873631_873621_2_036_001.jpg\n",
      "image_comic_i: 38 | image_comic_name: 08_873631_873621_2_037_001.jpg\n",
      "image_comic_i: 39 | image_comic_name: 08_873631_873621_2_038_001.jpg\n",
      "image_comic_i: 40 | image_comic_name: 08_873631_873621_2_039_001.jpg\n",
      "image_comic_i: 41 | image_comic_name: 08_873631_873621_2_040_001.jpg\n",
      "image_comic_i: 42 | image_comic_name: 08_873631_873621_2_041_001.jpg\n",
      "image_comic_i: 43 | image_comic_name: 08_873631_873621_2_042_001.jpg\n",
      "image_comic_i: 44 | image_comic_name: 08_873631_873621_2_043_001.jpg\n",
      "image_comic_i: 45 | image_comic_name: 08_873631_873621_2_044_001.jpg\n",
      "image_comic_i: 46 | image_comic_name: 08_873631_873621_2_045_001.jpg\n",
      "image_comic_i: 47 | image_comic_name: 08_873631_873621_2_046_001.jpg\n",
      "image_comic_i: 48 | image_comic_name: 08_873631_873621_2_047_001.jpg\n",
      "image_comic_i: 49 | image_comic_name: 08_873631_873621_2_048_001.jpg\n",
      "image_comic_i: 50 | image_comic_name: 08_873631_873621_2_049_001.jpg\n",
      "image_comic_i: 51 | image_comic_name: 08_873631_873621_2_050_001.jpg\n",
      "image_comic_i: 52 | image_comic_name: 08_873631_873621_2_051_001.jpg\n",
      "image_comic_i: 53 | image_comic_name: 08_873631_873621_2_052_001.jpg\n",
      "image_comic_i: 54 | image_comic_name: 08_873631_873621_2_053_001.jpg\n",
      "image_comic_i: 55 | image_comic_name: 08_873631_873621_2_054_001.jpg\n",
      "image_comic_i: 56 | image_comic_name: 08_873631_873621_2_055_001.jpg\n",
      "image_comic_i: 57 | image_comic_name: 08_873631_873621_2_056_001.jpg\n",
      "image_comic_i: 58 | image_comic_name: 08_873631_873621_2_057_001.jpg\n",
      "image_comic_i: 59 | image_comic_name: 08_873631_873621_2_058_001.jpg\n",
      "image_comic_i: 60 | image_comic_name: 08_873631_873621_2_059_001.jpg\n",
      "image_comic_i: 61 | image_comic_name: 08_873631_873621_2_060_001.jpg\n",
      "image_comic_i: 62 | image_comic_name: 08_873631_873621_2_061_001.jpg\n",
      "image_comic_i: 63 | image_comic_name: 08_873631_873621_2_062_001.jpg\n",
      "image_comic_i: 64 | image_comic_name: 08_873631_873621_2_063_001.jpg\n",
      "image_comic_i: 65 | image_comic_name: 08_873631_873621_2_064_001.jpg\n",
      "image_comic_i: 66 | image_comic_name: 08_873631_873621_2_065_001.jpg\n",
      "image_comic_i: 67 | image_comic_name: 08_873631_873621_2_066_001.jpg\n",
      "image_comic_i: 68 | image_comic_name: 08_873631_873621_2_067_001.jpg\n",
      "image_comic_i: 69 | image_comic_name: 08_873631_873621_2_068_001.jpg\n",
      "image_comic_i: 70 | image_comic_name: 08_873631_873621_2_069_001.jpg\n",
      "image_comic_i: 71 | image_comic_name: 08_873631_873621_2_070_001.jpg\n",
      "image_comic_i: 72 | image_comic_name: 08_873631_873621_2_071_001.jpg\n",
      "image_comic_i: 73 | image_comic_name: 08_873631_873621_2_072_001.jpg\n",
      "image_comic_i: 74 | image_comic_name: 08_873631_873621_2_073_001.jpg\n",
      "image_comic_i: 75 | image_comic_name: 08_873631_873621_2_074_001.jpg\n",
      "image_comic_i: 76 | image_comic_name: 08_873631_873621_2_075_001.jpg\n",
      "image_comic_i: 77 | image_comic_name: 08_873631_873621_2_076_001.jpg\n",
      "image_comic_i: 78 | image_comic_name: 08_873631_873621_2_077_001.jpg\n",
      "image_comic_i: 79 | image_comic_name: 08_873631_873621_2_078_001.jpg\n",
      "image_comic_i: 80 | image_comic_name: 08_873631_873621_2_079_001.jpg\n",
      "image_comic_i: 81 | image_comic_name: 08_873631_873621_2_080_001.jpg\n",
      "image_comic_i: 82 | image_comic_name: 08_873631_873621_2_081_001.jpg\n",
      "image_comic_i: 83 | image_comic_name: 08_873631_873621_2_082_001.jpg\n",
      "image_comic_i: 84 | image_comic_name: 08_873631_873621_2_083_001.jpg\n",
      "image_comic_i: 85 | image_comic_name: 08_873631_873621_2_084_001.jpg\n",
      "image_comic_i: 86 | image_comic_name: 08_873631_873621_2_085_001.jpg\n",
      "image_comic_i: 87 | image_comic_name: 08_873631_873621_2_086_001.jpg\n",
      "image_comic_i: 88 | image_comic_name: 08_873631_873621_2_087_001.jpg\n",
      "image_comic_i: 89 | image_comic_name: 08_873631_873621_2_088_001.jpg\n",
      "image_comic_i: 90 | image_comic_name: 08_873631_873621_2_089_001.jpg\n",
      "image_comic_i: 91 | image_comic_name: 08_873631_873621_2_090_001.jpg\n",
      "image_comic_i: 92 | image_comic_name: 08_873631_873621_2_091_001.jpg\n",
      "image_comic_i: 93 | image_comic_name: 08_873631_873621_2_092_001.jpg\n",
      "image_comic_i: 94 | image_comic_name: 08_873631_873621_2_093_001.jpg\n",
      "image_comic_i: 95 | image_comic_name: 08_873631_873621_2_094_001.jpg\n",
      "image_comic_i: 96 | image_comic_name: 08_873631_873621_2_095_001.jpg\n",
      "image_comic_i: 97 | image_comic_name: 08_873631_873621_2_096_001.jpg\n",
      "image_comic_i: 98 | image_comic_name: 08_873631_873621_2_097_001.jpg\n",
      "image_comic_i: 99 | image_comic_name: 08_873631_873621_2_098_001.jpg\n",
      "image_comic_i: 100 | image_comic_name: 08_873631_873621_2_099_001.jpg\n",
      "image_comic_i: 101 | image_comic_name: 08_873631_873621_2_100_001.jpg\n",
      "image_comic_i: 102 | image_comic_name: 08_873631_873621_2_101_001.jpg\n",
      "image_comic_i: 103 | image_comic_name: 08_873631_873621_2_102_001.jpg\n",
      "image_comic_i: 104 | image_comic_name: 08_873631_873621_2_103_001.jpg\n",
      "image_comic_i: 105 | image_comic_name: 08_873631_873621_2_104_001.jpg\n",
      "image_comic_i: 106 | image_comic_name: 08_873631_873621_2_105_001.jpg\n",
      "image_comic_i: 107 | image_comic_name: 08_873631_873621_2_106_001.jpg\n",
      "image_comic_i: 108 | image_comic_name: 08_873631_873621_2_107_001.jpg\n",
      "image_comic_i: 109 | image_comic_name: 08_873631_873621_2_108_001.jpg\n",
      "image_comic_i: 110 | image_comic_name: 08_873631_873621_2_109_002.jpg\n",
      "image_comic_i: 111 | image_comic_name: 08_873631_873621_2_110_001.jpg\n",
      "image_comic_i: 112 | image_comic_name: 08_873631_873621_2_111_001.jpg\n",
      "image_comic_i: 113 | image_comic_name: 08_873631_873621_2_112_001.jpg\n",
      "image_comic_i: 114 | image_comic_name: 08_873631_873621_2_113_001.jpg\n",
      "image_comic_i: 115 | image_comic_name: 08_873631_873621_2_114_001.jpg\n",
      "image_comic_i: 116 | image_comic_name: 08_873631_873621_2_115_001.jpg\n",
      "image_comic_i: 117 | image_comic_name: 08_873631_873621_2_116_001.jpg\n",
      "image_comic_i: 118 | image_comic_name: 08_873631_873621_2_117_001.jpg\n",
      "image_comic_i: 119 | image_comic_name: 08_873631_873621_2_118_001.jpg\n",
      "image_comic_i: 120 | image_comic_name: 08_873631_873621_2_119_001.jpg\n",
      "image_comic_i: 121 | image_comic_name: 08_873631_873621_2_120_001.jpg\n",
      "image_comic_i: 122 | image_comic_name: 08_873631_873621_2_121_001.jpg\n",
      "image_comic_i: 123 | image_comic_name: 08_873631_873621_2_122_001.jpg\n",
      "image_comic_i: 124 | image_comic_name: 08_873631_873621_2_123_001.jpg\n",
      "image_comic_i: 125 | image_comic_name: 08_873631_873621_2_124_001.jpg\n",
      "image_comic_i: 126 | image_comic_name: 08_873631_873621_2_125_001.jpg\n",
      "image_comic_i: 127 | image_comic_name: 08_873631_873621_2_126_002.jpg\n",
      "image_comic_i: 128 | image_comic_name: 08_873631_873621_2_127_001.jpg\n",
      "image_comic_i: 129 | image_comic_name: 08_873631_873621_2_128_001.jpg\n",
      "image_comic_i: 130 | image_comic_name: 08_873631_873621_2_129_001.jpg\n",
      "image_comic_i: 131 | image_comic_name: 08_873631_873621_2_130_001.jpg\n",
      "image_comic_i: 132 | image_comic_name: 08_873631_873621_2_131_001.jpg\n",
      "image_comic_i: 133 | image_comic_name: 08_873631_873621_2_132_001.jpg\n",
      "image_comic_i: 134 | image_comic_name: 08_873631_873621_2_133_001.jpg\n",
      "image_comic_i: 135 | image_comic_name: 08_873631_873621_2_134_001.jpg\n",
      "image_comic_i: 136 | image_comic_name: 08_873631_873621_2_135_001.jpg\n",
      "image_comic_i: 137 | image_comic_name: 08_873631_873621_2_136_001.jpg\n",
      "image_comic_i: 138 | image_comic_name: 08_873631_873621_2_137_001.jpg\n",
      "image_comic_i: 139 | image_comic_name: 08_873631_873621_2_138_001.jpg\n",
      "image_comic_i: 140 | image_comic_name: 08_873631_873621_2_139_001.jpg\n",
      "image_comic_i: 141 | image_comic_name: 08_873631_873621_2_140_001.jpg\n",
      "image_comic_i: 142 | image_comic_name: 08_873631_873621_2_141_001.jpg\n",
      "image_comic_i: 143 | image_comic_name: 08_873631_873621_2_142_001.jpg\n",
      "image_comic_i: 144 | image_comic_name: 08_873631_873621_2_143_001.jpg\n",
      "image_comic_i: 145 | image_comic_name: 08_873631_873621_2_144_001.jpg\n",
      "image_comic_i: 146 | image_comic_name: 08_873631_873621_2_145_001.jpg\n",
      "image_comic_i: 147 | image_comic_name: 08_873631_873621_2_146_001.jpg\n",
      "image_comic_i: 148 | image_comic_name: 08_873631_873621_2_147_001.jpg\n",
      "image_comic_i: 149 | image_comic_name: 08_873631_873621_2_148_001.jpg\n",
      "image_comic_i: 150 | image_comic_name: 08_873631_873621_2_149_001.jpg\n",
      "image_comic_i: 151 | image_comic_name: 08_873631_873621_2_150_001.jpg\n",
      "image_comic_i: 152 | image_comic_name: 08_873631_873621_2_151_001.jpg\n",
      "image_comic_i: 153 | image_comic_name: 08_873631_873621_2_152_001.jpg\n",
      "image_comic_i: 154 | image_comic_name: 08_873631_873621_2_153_001.jpg\n",
      "image_comic_i: 155 | image_comic_name: 08_873631_873621_2_154_001.jpg\n",
      "image_comic_i: 156 | image_comic_name: 08_873631_873621_2_155_001.jpg\n",
      "image_comic_i: 157 | image_comic_name: 08_873631_873621_2_156_001.jpg\n",
      "image_comic_i: 158 | image_comic_name: 08_873631_873621_2_157_001.jpg\n",
      "image_comic_i: 159 | image_comic_name: 08_873631_873621_2_158_001.jpg\n",
      "image_comic_i: 160 | image_comic_name: 08_873631_873621_2_159_001.jpg\n",
      "image_comic_i: 161 | image_comic_name: 08_873631_873621_2_160_001.jpg\n",
      "image_comic_i: 162 | image_comic_name: 08_873631_873621_2_161_001.jpg\n",
      "image_comic_i: 163 | image_comic_name: 08_873631_873621_2_162_001.jpg\n",
      "image_comic_i: 164 | image_comic_name: 08_873631_873621_2_163_001.jpg\n",
      "image_comic_i: 165 | image_comic_name: 08_873631_873621_2_164_001.jpg\n",
      "image_comic_i: 166 | image_comic_name: 08_873631_873621_2_165_001.jpg\n",
      "image_comic_i: 167 | image_comic_name: 08_873631_873621_2_166_001.jpg\n",
      "image_comic_i: 168 | image_comic_name: 08_873631_873621_2_167_001.jpg\n",
      "image_comic_i: 169 | image_comic_name: 08_873631_873621_2_168_001.jpg\n",
      "image_comic_i: 170 | image_comic_name: 08_873631_873621_2_169_001.jpg\n",
      "image_comic_i: 171 | image_comic_name: 08_873631_873621_2_170_001.jpg\n",
      "image_comic_i: 172 | image_comic_name: 08_873631_873621_2_171_001.jpg\n",
      "image_comic_i: 173 | image_comic_name: 08_873631_873621_2_172_001.jpg\n",
      "image_comic_i: 174 | image_comic_name: 08_873631_873621_2_173_001.jpg\n",
      "image_comic_i: 175 | image_comic_name: 08_873631_873621_2_174_001.jpg\n",
      "image_comic_i: 176 | image_comic_name: 08_873631_873621_2_175_001.jpg\n",
      "image_comic_i: 177 | image_comic_name: 08_873631_873621_2_176_001.jpg\n",
      "image_comic_i: 178 | image_comic_name: 08_873631_873621_2_177_001.jpg\n",
      "image_comic_i: 179 | image_comic_name: 08_873631_873621_2_178_001.jpg\n",
      "image_comic_i: 180 | image_comic_name: 08_873631_873621_2_179_001.jpg\n",
      "image_comic_i: 181 | image_comic_name: 08_873631_873621_2_180_001.jpg\n",
      "image_comic_i: 182 | image_comic_name: 08_873631_873621_2_181_001.jpg\n",
      "image_comic_i: 183 | image_comic_name: 08_873631_873621_2_182_001.jpg\n",
      "image_comic_i: 184 | image_comic_name: 08_873631_873621_2_183_001.jpg\n",
      "image_comic_i: 185 | image_comic_name: 08_873631_873621_2_184_001.jpg\n",
      "image_comic_i: 186 | image_comic_name: 08_873631_873621_2_185_001.jpg\n",
      "image_comic_i: 187 | image_comic_name: 08_873631_873621_2_186_001.jpg\n",
      "image_comic_i: 188 | image_comic_name: 08_873631_873621_2_187_001.jpg\n",
      "image_comic_i: 189 | image_comic_name: 08_873631_873621_2_188_001.jpg\n",
      "image_comic_i: 190 | image_comic_name: 08_873631_873621_2_189_001.jpg\n",
      "image_comic_i: 191 | image_comic_name: 08_873631_873621_2_190_001.jpg\n",
      "image_comic_i: 192 | image_comic_name: 08_873631_873621_2_191_001.jpg\n",
      "image_comic_i: 193 | image_comic_name: 08_873631_873621_2_192_001.jpg\n",
      "image_comic_i: 194 | image_comic_name: 08_873631_873621_2_193_001.jpg\n",
      "image_comic_i: 195 | image_comic_name: 08_873631_873621_2_194_001.jpg\n",
      "image_comic_i: 196 | image_comic_name: 08_873631_873621_2_195_001.jpg\n",
      "image_comic_i: 197 | image_comic_name: 08_873631_873621_2_196_001.jpg\n",
      "image_comic_i: 198 | image_comic_name: 08_873631_873621_2_197_001.jpg\n",
      "image_comic_i: 199 | image_comic_name: 08873631873621325501_copyright.jpg\n",
      "image_comic_i: 200 | "
     ]
    },
    {
     "ename": "IndexError",
     "evalue": "list index out of range",
     "output_type": "error",
     "traceback": [
      "\u001b[0;31m---------------------------------------------------------------------------\u001b[0m",
      "\u001b[0;31mIndexError\u001b[0m                                Traceback (most recent call last)",
      "Cell \u001b[0;32mIn[203], line 7\u001b[0m\n\u001b[1;32m      3\u001b[0m \u001b[38;5;28mprint\u001b[39m(\u001b[38;5;124mf\u001b[39m\u001b[38;5;124m\"\u001b[39m\u001b[38;5;124mimage_comic_i: \u001b[39m\u001b[38;5;132;01m{\u001b[39;00mimage_comic_i\u001b[38;5;132;01m}\u001b[39;00m\u001b[38;5;124m\"\u001b[39m, end \u001b[38;5;241m=\u001b[39m\u001b[38;5;124m\"\u001b[39m\u001b[38;5;124m | \u001b[39m\u001b[38;5;124m\"\u001b[39m)\n\u001b[1;32m      5\u001b[0m image_comic \u001b[38;5;241m=\u001b[39m driver\u001b[38;5;241m.\u001b[39mfind_elements(By\u001b[38;5;241m.\u001b[39mXPATH, \u001b[38;5;124mf\u001b[39m\u001b[38;5;124m\"\u001b[39m\u001b[38;5;124m//img[@class=\u001b[39m\u001b[38;5;124m'\u001b[39m\u001b[38;5;124mhorizontal-comic-image\u001b[39m\u001b[38;5;124m'\u001b[39m\u001b[38;5;124m and @data-replace-id=\u001b[39m\u001b[38;5;124m'\u001b[39m\u001b[38;5;132;01m{\u001b[39;00mimage_comic_i\u001b[38;5;132;01m}\u001b[39;00m\u001b[38;5;124m'\u001b[39m\u001b[38;5;124m]\u001b[39m\u001b[38;5;124m\"\u001b[39m)\n\u001b[0;32m----> 7\u001b[0m image_comic_src \u001b[38;5;241m=\u001b[39m \u001b[43mimage_comic\u001b[49m\u001b[43m[\u001b[49m\u001b[38;5;241;43m1\u001b[39;49m\u001b[43m]\u001b[49m\u001b[38;5;241m.\u001b[39mget_attribute(\u001b[38;5;124m\"\u001b[39m\u001b[38;5;124msrc\u001b[39m\u001b[38;5;124m\"\u001b[39m)\n\u001b[1;32m      9\u001b[0m image_comic_src_split_1 \u001b[38;5;241m=\u001b[39m image_comic_src\u001b[38;5;241m.\u001b[39msplit(\u001b[38;5;124m\"\u001b[39m\u001b[38;5;124m?\u001b[39m\u001b[38;5;124m\"\u001b[39m)\n\u001b[1;32m     11\u001b[0m image_comic_src_split_2 \u001b[38;5;241m=\u001b[39m image_comic_src_split_1[\u001b[38;5;241m0\u001b[39m]\u001b[38;5;241m.\u001b[39msplit(\u001b[38;5;124m\"\u001b[39m\u001b[38;5;124m/\u001b[39m\u001b[38;5;124m\"\u001b[39m)\n",
      "\u001b[0;31mIndexError\u001b[0m: list index out of range"
     ]
    }
   ],
   "source": [
    "while True:\n",
    "    image_comic_i = image_comic_i + 1\n",
    "    print(f\"image_comic_i: {image_comic_i}\", end =\" | \")\n",
    "\n",
    "    image_comic = driver.find_elements(By.XPATH, f\"//img[@class='horizontal-comic-image' and @data-replace-id='{image_comic_i}']\")\n",
    "\n",
    "    image_comic_src = image_comic[1].get_attribute(\"src\")\n",
    "\n",
    "    image_comic_src_split_1 = image_comic_src.split(\"?\")\n",
    "\n",
    "    image_comic_src_split_2 = image_comic_src_split_1[0].split(\"/\")\n",
    "\n",
    "    image_comic_name = image_comic_src_split_2[-3]\n",
    "    print(f\"image_comic_name: {image_comic_name}\")\n",
    "\n",
    "    if image_comic_name.split(\".\")[-1] != \"jpg\":\n",
    "        image_comic_i = image_comic_i - 1\n",
    "        sys.exit(1)\n",
    "\n",
    "    urllib.request.urlretrieve(image_comic_src, f\"{image_dir}/{image_comic_name}\")\n",
    "\n",
    "    # time.sleep(0.5)"
   ]
  },
  {
   "cell_type": "code",
   "execution_count": 191,
   "metadata": {},
   "outputs": [
    {
     "data": {
      "text/plain": [
       "'https://resources.comico.io/deprecated/spn/blank/img_516x306.png'"
      ]
     },
     "execution_count": 191,
     "metadata": {},
     "output_type": "execute_result"
    }
   ],
   "source": [
    "image_comic_src"
   ]
  }
 ],
 "metadata": {
  "kernelspec": {
   "display_name": "py311-selenium4160",
   "language": "python",
   "name": "python3"
  },
  "language_info": {
   "codemirror_mode": {
    "name": "ipython",
    "version": 3
   },
   "file_extension": ".py",
   "mimetype": "text/x-python",
   "name": "python",
   "nbconvert_exporter": "python",
   "pygments_lexer": "ipython3",
   "version": "3.11.5"
  }
 },
 "nbformat": 4,
 "nbformat_minor": 2
}
