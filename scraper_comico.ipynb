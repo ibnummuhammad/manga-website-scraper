{
 "cells": [
  {
   "cell_type": "code",
   "execution_count": 1,
   "metadata": {},
   "outputs": [],
   "source": [
    "import datetime\n",
    "import os\n",
    "import urllib\n",
    "import sys\n",
    "import time\n",
    "\n",
    "import requests\n",
    "from selenium import webdriver\n",
    "from selenium.webdriver.common.by import By"
   ]
  },
  {
   "cell_type": "code",
   "execution_count": 2,
   "metadata": {},
   "outputs": [],
   "source": [
    "driver = webdriver.Chrome()"
   ]
  },
  {
   "cell_type": "code",
   "execution_count": 3,
   "metadata": {},
   "outputs": [],
   "source": [
    "driver.get(\"https://www.comico.jp/\")"
   ]
  },
  {
   "cell_type": "code",
   "execution_count": null,
   "metadata": {},
   "outputs": [],
   "source": [
    "headers  = {'User-Agent': 'Mozilla/5.0 (X11; Linux x86_64) AppleWebKit/537.11 (KHTML, like Gecko) Chrome/23.0.1271.64 Safari/537.11',\n",
    "       'Accept': 'text/html,application/xhtml+xml,application/xml;q=0.9,*/*;q=0.8',\n",
    "       'Accept-Charset': 'ISO-8859-1,utf-8;q=0.7,*;q=0.3',\n",
    "       'Accept-Encoding': 'none',\n",
    "       'Accept-Language': 'en-US,en;q=0.8',\n",
    "       'Connection': 'keep-alive'}"
   ]
  },
  {
   "cell_type": "code",
   "execution_count": 4,
   "metadata": {},
   "outputs": [],
   "source": [
    "title_dict = {\n",
    "    \"130317\": \"doraemon_adventure\",\n",
    "    \"10692\": \"naruto\",\n",
    "    \"11143\": \"one_piece\",\n",
    "    \"10613\": \"death_note\",\n",
    "    \"127415\": \"doraemon_adventure_bundled\",\n",
    "    \"130314\": \"doraemon\"\n",
    "}"
   ]
  },
  {
   "cell_type": "code",
   "execution_count": 23,
   "metadata": {},
   "outputs": [
    {
     "name": "stdout",
     "output_type": "stream",
     "text": [
      "doraemon\n",
      "90\n",
      "../read-manga-online-website/comico/doraemon/90\n"
     ]
    }
   ],
   "source": [
    "# comic_url = driver.current_url\n",
    "\n",
    "# comic_url_split = comic_url.split(\"/\")\n",
    "# comic_url_split\n",
    "\n",
    "# comic_title_encoded = comic_url_split[4]\n",
    "# comic_title_encoded\n",
    "\n",
    "# title = title_dict[comic_title_encoded]\n",
    "# print(title)\n",
    "\n",
    "# comic_volume = comic_url_split[6]\n",
    "# print(comic_volume)\n",
    "\n",
    "# image_dir = f\"../read-manga-online-website/comico/{title}/{comic_volume}\"\n",
    "# print(image_dir)\n",
    "\n",
    "# if not os.path.exists(image_dir):\n",
    "#     os.makedirs(image_dir)"
   ]
  },
  {
   "cell_type": "code",
   "execution_count": 24,
   "metadata": {},
   "outputs": [],
   "source": [
    "# driver.find_element(By.XPATH, '//button[@id=\"one_prev_button\"]').click()"
   ]
  },
  {
   "cell_type": "code",
   "execution_count": 27,
   "metadata": {},
   "outputs": [
    {
     "data": {
      "text/plain": [
       "0"
      ]
     },
     "execution_count": 27,
     "metadata": {},
     "output_type": "execute_result"
    }
   ],
   "source": [
    "image_comic_i = 0\n",
    "image_comic_i"
   ]
  },
  {
   "cell_type": "code",
   "execution_count": 28,
   "metadata": {},
   "outputs": [
    {
     "name": "stdout",
     "output_type": "stream",
     "text": [
      "doraemon\n",
      "91\n",
      "../read-manga-online-website/comico/doraemon/91\n",
      "image_comic_i: 0 | image_comic_name: dora-vol091-cover-000-01.jpg\n",
      "image_comic_i: 1 | image_comic_name: dora-vol091-contents-000-02.jpg\n",
      "image_comic_i: 2 | image_comic_name: FZ-DORA-14-033-01_ja.jpg\n",
      "image_comic_i: 3 | image_comic_name: FZ-DORA-14-033-02_ja.jpg\n",
      "image_comic_i: 4 | image_comic_name: FZ-DORA-14-033-03_ja.jpg\n",
      "image_comic_i: 5 | image_comic_name: FZ-DORA-14-033-04_ja.jpg\n",
      "image_comic_i: 6 | image_comic_name: FZ-DORA-14-033-05_ja.jpg\n",
      "image_comic_i: 7 | image_comic_name: FZ-DORA-14-033-06_ja.jpg\n",
      "image_comic_i: 8 | image_comic_name: FZ-DORA-14-033-07_ja.jpg\n",
      "image_comic_i: 9 | image_comic_name: FZ-DORA-14-033-08_ja.jpg\n",
      "image_comic_i: 10 | image_comic_name: FZ-DORA-14-033-09_ja.jpg\n",
      "image_comic_i: 11 | image_comic_name: FZ-DORA-13-026-01_ja.jpg\n",
      "image_comic_i: 12 | image_comic_name: FZ-DORA-13-026-02_ja.jpg\n",
      "image_comic_i: 13 | image_comic_name: FZ-DORA-13-026-03_ja.jpg\n",
      "image_comic_i: 14 | image_comic_name: FZ-DORA-13-026-04_ja.jpg\n",
      "image_comic_i: 15 | image_comic_name: FZ-DORA-13-026-05_ja.jpg\n",
      "image_comic_i: 16 | image_comic_name: FZ-DORA-13-026-06_ja.jpg\n",
      "image_comic_i: 17 | image_comic_name: FZ-DORA-13-026-07_ja.jpg\n",
      "image_comic_i: 18 | image_comic_name: FZ-DORA-13-026-08_ja.jpg\n",
      "image_comic_i: 19 | image_comic_name: FZ-DORA-13-026-09_ja.jpg\n",
      "image_comic_i: 20 | image_comic_name: FZ-DORA-13-026-10_ja.jpg\n",
      "image_comic_i: 21 | image_comic_name: FZ-DORA-19-039-01_ja.jpg\n",
      "image_comic_i: 22 | image_comic_name: FZ-DORA-19-039-02_ja.jpg\n",
      "image_comic_i: 23 | image_comic_name: FZ-DORA-19-039-03_ja.jpg\n",
      "image_comic_i: 24 | image_comic_name: FZ-DORA-19-039-04_ja.jpg\n",
      "image_comic_i: 25 | image_comic_name: FZ-DORA-19-039-05_ja.jpg\n",
      "image_comic_i: 26 | image_comic_name: FZ-DORA-19-039-06_ja.jpg\n",
      "image_comic_i: 27 | image_comic_name: FZ-DORA-19-039-07_ja.jpg\n",
      "image_comic_i: 28 | image_comic_name: FZ-DORA-19-039-08_ja.jpg\n",
      "image_comic_i: 29 | image_comic_name: FZ-DORA-19-039-09_ja.jpg\n",
      "image_comic_i: 30 | image_comic_name: FZ-DORA-19-039-10_ja.jpg\n",
      "image_comic_i: 31 | image_comic_name: FZ-DORA-19-039-11_ja.jpg\n",
      "image_comic_i: 32 | image_comic_name: FZ-DORA-14-020-01_ja.jpg\n",
      "image_comic_i: 33 | image_comic_name: FZ-DORA-14-020-02_ja.jpg\n",
      "image_comic_i: 34 | image_comic_name: FZ-DORA-14-020-03_ja.jpg\n",
      "image_comic_i: 35 | image_comic_name: FZ-DORA-14-020-04_ja.jpg\n",
      "image_comic_i: 36 | image_comic_name: FZ-DORA-14-020-05_ja.jpg\n",
      "image_comic_i: 37 | image_comic_name: FZ-DORA-14-020-06_ja.jpg\n",
      "image_comic_i: 38 | image_comic_name: FZ-DORA-14-020-07_ja.jpg\n",
      "image_comic_i: 39 | image_comic_name: FZ-DORA-14-020-08_ja.jpg\n",
      "image_comic_i: 40 | image_comic_name: FZ-DORA-14-020-09_ja.jpg\n",
      "image_comic_i: 41 | image_comic_name: FZ-DORA-10-069-01_ja.jpg\n",
      "image_comic_i: 42 | image_comic_name: FZ-DORA-10-069-02_ja.jpg\n",
      "image_comic_i: 43 | image_comic_name: FZ-DORA-10-069-03_ja.jpg\n",
      "image_comic_i: 44 | image_comic_name: FZ-DORA-10-069-04_ja.jpg\n",
      "image_comic_i: 45 | image_comic_name: FZ-DORA-10-069-05_ja.jpg\n",
      "image_comic_i: 46 | image_comic_name: FZ-DORA-10-069-06_ja.jpg\n",
      "image_comic_i: 47 | image_comic_name: FZ-DORA-10-069-07_ja.jpg\n",
      "image_comic_i: 48 | image_comic_name: FZ-DORA-10-069-08_ja.jpg\n",
      "image_comic_i: 49 | image_comic_name: FZ-DORA-10-069-09_ja.jpg\n",
      "image_comic_i: 50 | image_comic_name: FZ-DORA-10-069-10_ja.jpg\n",
      "image_comic_i: 51 | image_comic_name: FZ-DORA-10-062-01_ja.jpg\n",
      "image_comic_i: 52 | image_comic_name: FZ-DORA-10-062-02_ja.jpg\n",
      "image_comic_i: 53 | image_comic_name: FZ-DORA-10-062-03_ja.jpg\n",
      "image_comic_i: 54 | image_comic_name: FZ-DORA-10-062-04_ja.jpg\n",
      "image_comic_i: 55 | image_comic_name: FZ-DORA-10-062-05_ja.jpg\n",
      "image_comic_i: 56 | image_comic_name: FZ-DORA-10-062-06_ja.jpg\n",
      "image_comic_i: 57 | image_comic_name: FZ-DORA-10-062-07_ja.jpg\n",
      "image_comic_i: 58 | image_comic_name: FZ-DORA-10-062-08_ja.jpg\n",
      "image_comic_i: 59 | image_comic_name: FZ-DORA-10-062-09_ja.jpg\n",
      "image_comic_i: 60 | image_comic_name: FZ-DORA-10-062-10_ja.jpg\n",
      "image_comic_i: 61 | image_comic_name: FZ-DORA-10-062-11_ja.jpg\n",
      "image_comic_i: 62 | image_comic_name: dora-vol091-colophon-999-02.jpg\n",
      "image_comic_i: 63 | image_comic_name: dora-vol000-kanmatu-999-03.jpg\n",
      "image_comic_i: 64 | "
     ]
    },
    {
     "ename": "IndexError",
     "evalue": "list index out of range",
     "output_type": "error",
     "traceback": [
      "\u001b[0;31m---------------------------------------------------------------------------\u001b[0m",
      "\u001b[0;31mIndexError\u001b[0m                                Traceback (most recent call last)",
      "Cell \u001b[0;32mIn[28], line 26\u001b[0m\n\u001b[1;32m     22\u001b[0m \u001b[38;5;28mprint\u001b[39m(\u001b[38;5;124mf\u001b[39m\u001b[38;5;124m\"\u001b[39m\u001b[38;5;124mimage_comic_i: \u001b[39m\u001b[38;5;132;01m{\u001b[39;00mimage_comic_i\u001b[38;5;132;01m}\u001b[39;00m\u001b[38;5;124m\"\u001b[39m, end \u001b[38;5;241m=\u001b[39m\u001b[38;5;124m\"\u001b[39m\u001b[38;5;124m | \u001b[39m\u001b[38;5;124m\"\u001b[39m)\n\u001b[1;32m     24\u001b[0m image_comic \u001b[38;5;241m=\u001b[39m driver\u001b[38;5;241m.\u001b[39mfind_elements(By\u001b[38;5;241m.\u001b[39mXPATH, \u001b[38;5;124mf\u001b[39m\u001b[38;5;124m\"\u001b[39m\u001b[38;5;124m//img[@class=\u001b[39m\u001b[38;5;124m'\u001b[39m\u001b[38;5;124mhorizontal-comic-image\u001b[39m\u001b[38;5;124m'\u001b[39m\u001b[38;5;124m and @data-replace-id=\u001b[39m\u001b[38;5;124m'\u001b[39m\u001b[38;5;132;01m{\u001b[39;00mimage_comic_i\u001b[38;5;132;01m}\u001b[39;00m\u001b[38;5;124m'\u001b[39m\u001b[38;5;124m]\u001b[39m\u001b[38;5;124m\"\u001b[39m)\n\u001b[0;32m---> 26\u001b[0m image_comic_src \u001b[38;5;241m=\u001b[39m \u001b[43mimage_comic\u001b[49m\u001b[43m[\u001b[49m\u001b[38;5;241;43m1\u001b[39;49m\u001b[43m]\u001b[49m\u001b[38;5;241m.\u001b[39mget_attribute(\u001b[38;5;124m\"\u001b[39m\u001b[38;5;124msrc\u001b[39m\u001b[38;5;124m\"\u001b[39m)\n\u001b[1;32m     28\u001b[0m image_comic_src_split_1 \u001b[38;5;241m=\u001b[39m image_comic_src\u001b[38;5;241m.\u001b[39msplit(\u001b[38;5;124m\"\u001b[39m\u001b[38;5;124m?\u001b[39m\u001b[38;5;124m\"\u001b[39m)\n\u001b[1;32m     30\u001b[0m image_comic_src_split_2 \u001b[38;5;241m=\u001b[39m image_comic_src_split_1[\u001b[38;5;241m0\u001b[39m]\u001b[38;5;241m.\u001b[39msplit(\u001b[38;5;124m\"\u001b[39m\u001b[38;5;124m/\u001b[39m\u001b[38;5;124m\"\u001b[39m)\n",
      "\u001b[0;31mIndexError\u001b[0m: list index out of range"
     ]
    }
   ],
   "source": [
    "comic_url = driver.current_url\n",
    "\n",
    "comic_url_split = comic_url.split(\"/\")\n",
    "comic_url_split\n",
    "\n",
    "comic_title_encoded = comic_url_split[4]\n",
    "comic_title_encoded\n",
    "\n",
    "title = title_dict[comic_title_encoded]\n",
    "print(title)\n",
    "\n",
    "comic_volume = comic_url_split[6]\n",
    "print(comic_volume)\n",
    "\n",
    "image_dir = f\"../read-manga-online-website/comico/{title}/{comic_volume}\"\n",
    "print(image_dir)\n",
    "\n",
    "if not os.path.exists(image_dir):\n",
    "    os.makedirs(image_dir)\n",
    "\n",
    "while True:\n",
    "    print(f\"image_comic_i: {image_comic_i}\", end =\" | \")\n",
    "\n",
    "    image_comic = driver.find_elements(By.XPATH, f\"//img[@class='horizontal-comic-image' and @data-replace-id='{image_comic_i}']\")\n",
    "\n",
    "    image_comic_src = image_comic[1].get_attribute(\"src\")\n",
    "\n",
    "    image_comic_src_split_1 = image_comic_src.split(\"?\")\n",
    "\n",
    "    image_comic_src_split_2 = image_comic_src_split_1[0].split(\"/\")\n",
    "\n",
    "    image_comic_name = image_comic_src_split_2[-3]\n",
    "    print(f\"image_comic_name: {image_comic_name}\")\n",
    "\n",
    "    if image_comic_name.split(\".\")[-1] != \"jpg\":\n",
    "        image_comic_i = image_comic_i - 1\n",
    "        sys.exit(1)\n",
    "\n",
    "    urllib.request.urlretrieve(image_comic_src, f\"{image_dir}/{image_comic_name}\")\n",
    "\n",
    "    driver.find_element(By.XPATH, '//button[@id=\"one_prev_button\"]').click()\n",
    "    \n",
    "    image_comic_i = image_comic_i + 1"
   ]
  },
  {
   "cell_type": "code",
   "execution_count": null,
   "metadata": {},
   "outputs": [],
   "source": [
    "driver.refresh()"
   ]
  },
  {
   "cell_type": "code",
   "execution_count": null,
   "metadata": {},
   "outputs": [],
   "source": [
    "image_comic_src"
   ]
  }
 ],
 "metadata": {
  "kernelspec": {
   "display_name": "py311-selenium4160",
   "language": "python",
   "name": "python3"
  },
  "language_info": {
   "codemirror_mode": {
    "name": "ipython",
    "version": 3
   },
   "file_extension": ".py",
   "mimetype": "text/x-python",
   "name": "python",
   "nbconvert_exporter": "python",
   "pygments_lexer": "ipython3",
   "version": "3.11.5"
  }
 },
 "nbformat": 4,
 "nbformat_minor": 2
}
