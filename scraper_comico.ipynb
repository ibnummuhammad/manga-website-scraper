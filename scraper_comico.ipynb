{
 "cells": [
  {
   "cell_type": "code",
   "execution_count": 1,
   "metadata": {},
   "outputs": [],
   "source": [
    "import datetime\n",
    "import os\n",
    "import urllib\n",
    "\n",
    "import requests\n",
    "from selenium import webdriver\n",
    "from selenium.webdriver.common.by import By"
   ]
  },
  {
   "cell_type": "code",
   "execution_count": 13,
   "metadata": {},
   "outputs": [],
   "source": [
    "title_dict = {\n",
    "    \"130317\": \"doraemon_adventure\"\n",
    "}"
   ]
  },
  {
   "cell_type": "code",
   "execution_count": 2,
   "metadata": {},
   "outputs": [],
   "source": [
    "driver = webdriver.Chrome()"
   ]
  },
  {
   "cell_type": "code",
   "execution_count": 3,
   "metadata": {},
   "outputs": [],
   "source": [
    "driver.get(\"https://www.comico.jp/\")"
   ]
  },
  {
   "cell_type": "code",
   "execution_count": 14,
   "metadata": {},
   "outputs": [],
   "source": [
    "headers  = {'User-Agent': 'Mozilla/5.0 (X11; Linux x86_64) AppleWebKit/537.11 (KHTML, like Gecko) Chrome/23.0.1271.64 Safari/537.11',\n",
    "       'Accept': 'text/html,application/xhtml+xml,application/xml;q=0.9,*/*;q=0.8',\n",
    "       'Accept-Charset': 'ISO-8859-1,utf-8;q=0.7,*;q=0.3',\n",
    "       'Accept-Encoding': 'none',\n",
    "       'Accept-Language': 'en-US,en;q=0.8',\n",
    "       'Connection': 'keep-alive'}"
   ]
  },
  {
   "cell_type": "code",
   "execution_count": 20,
   "metadata": {},
   "outputs": [],
   "source": [
    "comic_url = driver.current_url"
   ]
  },
  {
   "cell_type": "code",
   "execution_count": 27,
   "metadata": {},
   "outputs": [
    {
     "data": {
      "text/plain": [
       "['https:',\n",
       " '',\n",
       " 'www.comico.jp',\n",
       " 'magazine_comic',\n",
       " '130317',\n",
       " 'chapter',\n",
       " '16',\n",
       " 'product']"
      ]
     },
     "execution_count": 27,
     "metadata": {},
     "output_type": "execute_result"
    }
   ],
   "source": [
    "comic_url_split = comic_url.split(\"/\")\n",
    "comic_url_split"
   ]
  },
  {
   "cell_type": "code",
   "execution_count": 26,
   "metadata": {},
   "outputs": [
    {
     "data": {
      "text/plain": [
       "'130317'"
      ]
     },
     "execution_count": 26,
     "metadata": {},
     "output_type": "execute_result"
    }
   ],
   "source": [
    "comic_title_encoded = comic_url_split[4]\n",
    "comic_title_encoded"
   ]
  },
  {
   "cell_type": "code",
   "execution_count": 25,
   "metadata": {},
   "outputs": [
    {
     "data": {
      "text/plain": [
       "'doraemon_adventure'"
      ]
     },
     "execution_count": 25,
     "metadata": {},
     "output_type": "execute_result"
    }
   ],
   "source": [
    "title = title_dict[comic_title_encoded]\n",
    "title"
   ]
  },
  {
   "cell_type": "code",
   "execution_count": 31,
   "metadata": {},
   "outputs": [
    {
     "data": {
      "text/plain": [
       "'16'"
      ]
     },
     "execution_count": 31,
     "metadata": {},
     "output_type": "execute_result"
    }
   ],
   "source": [
    "comic_volume = comic_url_split[6]\n",
    "comic_volume"
   ]
  },
  {
   "cell_type": "code",
   "execution_count": 32,
   "metadata": {},
   "outputs": [
    {
     "data": {
      "text/plain": [
       "'../read-manga-online-website/comico/doraemon_adventure/16'"
      ]
     },
     "execution_count": 32,
     "metadata": {},
     "output_type": "execute_result"
    }
   ],
   "source": [
    "image_dir = f\"../read-manga-online-website/comico/{title}/{comic_volume}\"\n",
    "image_dir"
   ]
  },
  {
   "cell_type": "code",
   "execution_count": 34,
   "metadata": {},
   "outputs": [
    {
     "name": "stdout",
     "output_type": "stream",
     "text": [
      "../read-manga-online-website/comico/doraemon_adventure/16\n"
     ]
    }
   ],
   "source": [
    "if not os.path.exists(image_dir):\n",
    "    os.makedirs(image_dir)\n",
    "    print(image_dir)"
   ]
  },
  {
   "cell_type": "code",
   "execution_count": 42,
   "metadata": {},
   "outputs": [],
   "source": [
    "image_comic = driver.find_element(By.CLASS_NAME, \"horizontal-comic-image\")"
   ]
  },
  {
   "cell_type": "code",
   "execution_count": 46,
   "metadata": {},
   "outputs": [
    {
     "data": {
      "text/plain": [
       "'https://images.comico.io/magazine_comic/content/onetimeurl/ja/317/130317/16/1683862952366.epub/unzip/files/item/image/i-000a.jpg/dims/optimize?Policy=eyJTdGF0ZW1lbnQiOiBbeyJSZXNvdXJjZSI6Imh0dHBzOi8vaW1hZ2VzLmNvbWljby5pby9tYWdhemluZV9jb21pYy9jb250ZW50L29uZXRpbWV1cmwvamEvMzE3LzEzMDMxNy8xNi8xNjgzODYyOTUyMzY2LmVwdWIvKiIsIkNvbmRpdGlvbiI6eyJEYXRlTGVzc1RoYW4iOnsiQVdTOkVwb2NoVGltZSI6MTcxNTI1MjQyMH19fV19&Signature=GAVtq1jtxTL0nBlcDZWDhVVBPsEbHbsH5UKbEV3YzPLxVNi4T9agcG2eQ7JutR~4PruLIVT4vNCuHr02Dt--f21zPQu-c8S5ogXZmgU0FxgG~JDpAqKu39cGjfsiVW44Ar3wXEbpxmEiuQlgij1A3Umv51ojG7TRa17xH7oOZDeLSUBhdrW6fvjrtOS5lPP24cRDiNhTO04kovD0OUGhPYf1QTe9AB7l01VGuHjHXThXIi0dc6~c2e3Y~qtS3brens3SFUJzXoCFXhJBOm5hUlBsOCMtF1UR9OXp4yZm8i8YhpYayuV3YwcotspQzbT7oLXH~L3OtY5g~l6geeKP2g__&Key-Pair-Id=APKAIZOQXEUERT6TH4NQ'"
      ]
     },
     "execution_count": 46,
     "metadata": {},
     "output_type": "execute_result"
    }
   ],
   "source": [
    "image_comic_src = image_comic.get_attribute(\"src\")\n",
    "image_comic_src"
   ]
  },
  {
   "cell_type": "code",
   "execution_count": 52,
   "metadata": {},
   "outputs": [
    {
     "data": {
      "text/plain": [
       "['https://images.comico.io/magazine_comic/content/onetimeurl/ja/317/130317/16/1683862952366.epub/unzip/files/item/image/i-000a.jpg/dims/optimize',\n",
       " 'Policy=eyJTdGF0ZW1lbnQiOiBbeyJSZXNvdXJjZSI6Imh0dHBzOi8vaW1hZ2VzLmNvbWljby5pby9tYWdhemluZV9jb21pYy9jb250ZW50L29uZXRpbWV1cmwvamEvMzE3LzEzMDMxNy8xNi8xNjgzODYyOTUyMzY2LmVwdWIvKiIsIkNvbmRpdGlvbiI6eyJEYXRlTGVzc1RoYW4iOnsiQVdTOkVwb2NoVGltZSI6MTcxNTI1MjQyMH19fV19&Signature=GAVtq1jtxTL0nBlcDZWDhVVBPsEbHbsH5UKbEV3YzPLxVNi4T9agcG2eQ7JutR~4PruLIVT4vNCuHr02Dt--f21zPQu-c8S5ogXZmgU0FxgG~JDpAqKu39cGjfsiVW44Ar3wXEbpxmEiuQlgij1A3Umv51ojG7TRa17xH7oOZDeLSUBhdrW6fvjrtOS5lPP24cRDiNhTO04kovD0OUGhPYf1QTe9AB7l01VGuHjHXThXIi0dc6~c2e3Y~qtS3brens3SFUJzXoCFXhJBOm5hUlBsOCMtF1UR9OXp4yZm8i8YhpYayuV3YwcotspQzbT7oLXH~L3OtY5g~l6geeKP2g__&Key-Pair-Id=APKAIZOQXEUERT6TH4NQ']"
      ]
     },
     "execution_count": 52,
     "metadata": {},
     "output_type": "execute_result"
    }
   ],
   "source": [
    "image_comic_src_split_1 = image_comic_src.split(\"?\")\n",
    "image_comic_src_split_1"
   ]
  },
  {
   "cell_type": "code",
   "execution_count": 53,
   "metadata": {},
   "outputs": [
    {
     "data": {
      "text/plain": [
       "['https://images.comico.io/magazine_comic/content/onetimeurl/ja/317/130317/16/1683862952366.epub/unzip/files/item/image/i-000a.jpg/dims/optimize',\n",
       " 'Policy=eyJTdGF0ZW1lbnQiOiBbeyJSZXNvdXJjZSI6Imh0dHBzOi8vaW1hZ2VzLmNvbWljby5pby9tYWdhemluZV9jb21pYy9jb250ZW50L29uZXRpbWV1cmwvamEvMzE3LzEzMDMxNy8xNi8xNjgzODYyOTUyMzY2LmVwdWIvKiIsIkNvbmRpdGlvbiI6eyJEYXRlTGVzc1RoYW4iOnsiQVdTOkVwb2NoVGltZSI6MTcxNTI1MjQyMH19fV19&Signature=GAVtq1jtxTL0nBlcDZWDhVVBPsEbHbsH5UKbEV3YzPLxVNi4T9agcG2eQ7JutR~4PruLIVT4vNCuHr02Dt--f21zPQu-c8S5ogXZmgU0FxgG~JDpAqKu39cGjfsiVW44Ar3wXEbpxmEiuQlgij1A3Umv51ojG7TRa17xH7oOZDeLSUBhdrW6fvjrtOS5lPP24cRDiNhTO04kovD0OUGhPYf1QTe9AB7l01VGuHjHXThXIi0dc6~c2e3Y~qtS3brens3SFUJzXoCFXhJBOm5hUlBsOCMtF1UR9OXp4yZm8i8YhpYayuV3YwcotspQzbT7oLXH~L3OtY5g~l6geeKP2g__&Key-Pair-Id=APKAIZOQXEUERT6TH4NQ']"
      ]
     },
     "execution_count": 53,
     "metadata": {},
     "output_type": "execute_result"
    }
   ],
   "source": [
    "image_comic_src_split_1"
   ]
  },
  {
   "cell_type": "code",
   "execution_count": 54,
   "metadata": {},
   "outputs": [
    {
     "data": {
      "text/plain": [
       "['https:',\n",
       " '',\n",
       " 'images.comico.io',\n",
       " 'magazine_comic',\n",
       " 'content',\n",
       " 'onetimeurl',\n",
       " 'ja',\n",
       " '317',\n",
       " '130317',\n",
       " '16',\n",
       " '1683862952366.epub',\n",
       " 'unzip',\n",
       " 'files',\n",
       " 'item',\n",
       " 'image',\n",
       " 'i-000a.jpg',\n",
       " 'dims',\n",
       " 'optimize']"
      ]
     },
     "execution_count": 54,
     "metadata": {},
     "output_type": "execute_result"
    }
   ],
   "source": [
    "image_comic_src_split_2 = image_comic_src_split_1[0].split(\"/\")\n",
    "image_comic_src_split_2"
   ]
  },
  {
   "cell_type": "code",
   "execution_count": 56,
   "metadata": {},
   "outputs": [
    {
     "data": {
      "text/plain": [
       "'i-000a.jpg'"
      ]
     },
     "execution_count": 56,
     "metadata": {},
     "output_type": "execute_result"
    }
   ],
   "source": [
    "image_comic_name = image_comic_src_split_2[-3]\n",
    "image_comic_name"
   ]
  },
  {
   "cell_type": "code",
   "execution_count": 44,
   "metadata": {},
   "outputs": [],
   "source": [
    "# url = f\"./testing.jpeg\""
   ]
  },
  {
   "cell_type": "code",
   "execution_count": 57,
   "metadata": {},
   "outputs": [
    {
     "data": {
      "text/plain": [
       "('../read-manga-online-website/comico/doraemon_adventure/16/i-000a.jpg',\n",
       " <http.client.HTTPMessage at 0x77a5e934c2d0>)"
      ]
     },
     "execution_count": 57,
     "metadata": {},
     "output_type": "execute_result"
    }
   ],
   "source": [
    "urllib.request.urlretrieve(image_comic_src, f\"{image_dir}/{image_comic_name}\")"
   ]
  },
  {
   "cell_type": "code",
   "execution_count": null,
   "metadata": {},
   "outputs": [],
   "source": [
    "driver.close()"
   ]
  },
  {
   "cell_type": "code",
   "execution_count": null,
   "metadata": {},
   "outputs": [],
   "source": []
  }
 ],
 "metadata": {
  "kernelspec": {
   "display_name": "py311-selenium4160",
   "language": "python",
   "name": "python3"
  },
  "language_info": {
   "codemirror_mode": {
    "name": "ipython",
    "version": 3
   },
   "file_extension": ".py",
   "mimetype": "text/x-python",
   "name": "python",
   "nbconvert_exporter": "python",
   "pygments_lexer": "ipython3",
   "version": "3.11.5"
  }
 },
 "nbformat": 4,
 "nbformat_minor": 2
}
