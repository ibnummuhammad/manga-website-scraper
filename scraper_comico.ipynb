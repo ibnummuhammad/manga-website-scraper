{
 "cells": [
  {
   "cell_type": "code",
   "execution_count": 108,
   "metadata": {},
   "outputs": [],
   "source": [
    "import datetime\n",
    "import os\n",
    "import urllib\n",
    "import sys\n",
    "import time\n",
    "\n",
    "import requests\n",
    "from selenium import webdriver\n",
    "from selenium.webdriver.common.by import By"
   ]
  },
  {
   "cell_type": "code",
   "execution_count": 2,
   "metadata": {},
   "outputs": [],
   "source": [
    "title_dict = {\n",
    "    \"130317\": \"doraemon_adventure\"\n",
    "}"
   ]
  },
  {
   "cell_type": "code",
   "execution_count": 3,
   "metadata": {},
   "outputs": [],
   "source": [
    "driver = webdriver.Chrome()"
   ]
  },
  {
   "cell_type": "code",
   "execution_count": 4,
   "metadata": {},
   "outputs": [],
   "source": [
    "driver.get(\"https://www.comico.jp/\")"
   ]
  },
  {
   "cell_type": "code",
   "execution_count": 5,
   "metadata": {},
   "outputs": [],
   "source": [
    "headers  = {'User-Agent': 'Mozilla/5.0 (X11; Linux x86_64) AppleWebKit/537.11 (KHTML, like Gecko) Chrome/23.0.1271.64 Safari/537.11',\n",
    "       'Accept': 'text/html,application/xhtml+xml,application/xml;q=0.9,*/*;q=0.8',\n",
    "       'Accept-Charset': 'ISO-8859-1,utf-8;q=0.7,*;q=0.3',\n",
    "       'Accept-Encoding': 'none',\n",
    "       'Accept-Language': 'en-US,en;q=0.8',\n",
    "       'Connection': 'keep-alive'}"
   ]
  },
  {
   "cell_type": "code",
   "execution_count": 8,
   "metadata": {},
   "outputs": [],
   "source": [
    "comic_url = driver.current_url"
   ]
  },
  {
   "cell_type": "code",
   "execution_count": 9,
   "metadata": {},
   "outputs": [
    {
     "data": {
      "text/plain": [
       "['https:',\n",
       " '',\n",
       " 'www.comico.jp',\n",
       " 'magazine_comic',\n",
       " '130317',\n",
       " 'chapter',\n",
       " '16',\n",
       " 'product']"
      ]
     },
     "execution_count": 9,
     "metadata": {},
     "output_type": "execute_result"
    }
   ],
   "source": [
    "comic_url_split = comic_url.split(\"/\")\n",
    "# comic_url_split"
   ]
  },
  {
   "cell_type": "code",
   "execution_count": 10,
   "metadata": {},
   "outputs": [
    {
     "data": {
      "text/plain": [
       "'130317'"
      ]
     },
     "execution_count": 10,
     "metadata": {},
     "output_type": "execute_result"
    }
   ],
   "source": [
    "comic_title_encoded = comic_url_split[4]\n",
    "# comic_title_encoded"
   ]
  },
  {
   "cell_type": "code",
   "execution_count": 11,
   "metadata": {},
   "outputs": [
    {
     "data": {
      "text/plain": [
       "'doraemon_adventure'"
      ]
     },
     "execution_count": 11,
     "metadata": {},
     "output_type": "execute_result"
    }
   ],
   "source": [
    "title = title_dict[comic_title_encoded]\n",
    "title"
   ]
  },
  {
   "cell_type": "code",
   "execution_count": 12,
   "metadata": {},
   "outputs": [
    {
     "data": {
      "text/plain": [
       "'16'"
      ]
     },
     "execution_count": 12,
     "metadata": {},
     "output_type": "execute_result"
    }
   ],
   "source": [
    "comic_volume = comic_url_split[6]\n",
    "comic_volume"
   ]
  },
  {
   "cell_type": "code",
   "execution_count": 13,
   "metadata": {},
   "outputs": [
    {
     "data": {
      "text/plain": [
       "'../read-manga-online-website/comico/doraemon_adventure/16'"
      ]
     },
     "execution_count": 13,
     "metadata": {},
     "output_type": "execute_result"
    }
   ],
   "source": [
    "image_dir = f\"../read-manga-online-website/comico/{title}/{comic_volume}\"\n",
    "image_dir"
   ]
  },
  {
   "cell_type": "code",
   "execution_count": 14,
   "metadata": {},
   "outputs": [],
   "source": [
    "if not os.path.exists(image_dir):\n",
    "    os.makedirs(image_dir)\n",
    "    print(image_dir)"
   ]
  },
  {
   "cell_type": "code",
   "execution_count": 15,
   "metadata": {},
   "outputs": [],
   "source": [
    "image_comic_i = 0"
   ]
  },
  {
   "cell_type": "code",
   "execution_count": 98,
   "metadata": {},
   "outputs": [],
   "source": [
    "driver.refresh()"
   ]
  },
  {
   "cell_type": "code",
   "execution_count": 115,
   "metadata": {},
   "outputs": [],
   "source": [
    "image_comic_i = 32"
   ]
  },
  {
   "cell_type": "code",
   "execution_count": 116,
   "metadata": {},
   "outputs": [
    {
     "data": {
      "text/plain": [
       "32"
      ]
     },
     "execution_count": 116,
     "metadata": {},
     "output_type": "execute_result"
    }
   ],
   "source": [
    "image_comic_i"
   ]
  },
  {
   "cell_type": "code",
   "execution_count": null,
   "metadata": {},
   "outputs": [],
   "source": [
    "# start downloading images"
   ]
  },
  {
   "cell_type": "code",
   "execution_count": 119,
   "metadata": {},
   "outputs": [
    {
     "name": "stdout",
     "output_type": "stream",
     "text": [
      "42\n",
      "https://images.comico.io/magazine_comic/content/onetimeurl/ja/317/130317/16/1683862952366.epub/unzip/files/item/image/i-0043.jpg/dims/optimize?Policy=eyJTdGF0ZW1lbnQiOiBbeyJSZXNvdXJjZSI6Imh0dHBzOi8vaW1hZ2VzLmNvbWljby5pby9tYWdhemluZV9jb21pYy9jb250ZW50L29uZXRpbWV1cmwvamEvMzE3LzEzMDMxNy8xNi8xNjgzODYyOTUyMzY2LmVwdWIvKiIsIkNvbmRpdGlvbiI6eyJEYXRlTGVzc1RoYW4iOnsiQVdTOkVwb2NoVGltZSI6MTcxNTI1NjA5N319fV19&Signature=aOkt8mFmKCm8uuIH-f6kKsxDCHzqU90AeJQeJaHMSZu3iRjg-Wh9RTByJVNqDTe1URhHJ-rJEqBBhH57cA889~PX5z24at7biM9RBRwyfjCcpDV4Tjkyu3sI0LC6zGShAlQT-JwTeFqvQdX1tNaDMtTR3zUJGpZVsdl3Q1jyvYmB375K1IsgIm8N~JIHxOjX4g1j7vTeYrUD00k8Aij-KiIxfhxISAfL1t5fJEvI1m-D69qBkuWUw6eVisRAjjdpJCitE~kCYNNZY6zSIfUUeKLTTBWKGETQHifzcFOOOOR5yyDNzQ-gSfH9nwTi0wFVrToayTzQeRHF0G8Z6Cj7iw__&Key-Pair-Id=APKAIZOQXEUERT6TH4NQ\n",
      "i-0043.jpg\n",
      "43\n",
      "https://images.comico.io/magazine_comic/content/onetimeurl/ja/317/130317/16/1683862952366.epub/unzip/files/item/image/i-0044.jpg/dims/optimize?Policy=eyJTdGF0ZW1lbnQiOiBbeyJSZXNvdXJjZSI6Imh0dHBzOi8vaW1hZ2VzLmNvbWljby5pby9tYWdhemluZV9jb21pYy9jb250ZW50L29uZXRpbWV1cmwvamEvMzE3LzEzMDMxNy8xNi8xNjgzODYyOTUyMzY2LmVwdWIvKiIsIkNvbmRpdGlvbiI6eyJEYXRlTGVzc1RoYW4iOnsiQVdTOkVwb2NoVGltZSI6MTcxNTI1NjA5N319fV19&Signature=aOkt8mFmKCm8uuIH-f6kKsxDCHzqU90AeJQeJaHMSZu3iRjg-Wh9RTByJVNqDTe1URhHJ-rJEqBBhH57cA889~PX5z24at7biM9RBRwyfjCcpDV4Tjkyu3sI0LC6zGShAlQT-JwTeFqvQdX1tNaDMtTR3zUJGpZVsdl3Q1jyvYmB375K1IsgIm8N~JIHxOjX4g1j7vTeYrUD00k8Aij-KiIxfhxISAfL1t5fJEvI1m-D69qBkuWUw6eVisRAjjdpJCitE~kCYNNZY6zSIfUUeKLTTBWKGETQHifzcFOOOOR5yyDNzQ-gSfH9nwTi0wFVrToayTzQeRHF0G8Z6Cj7iw__&Key-Pair-Id=APKAIZOQXEUERT6TH4NQ\n",
      "i-0044.jpg\n",
      "44\n",
      "https://images.comico.io/magazine_comic/content/onetimeurl/ja/317/130317/16/1683862952366.epub/unzip/files/item/image/i-0045.jpg/dims/optimize?Policy=eyJTdGF0ZW1lbnQiOiBbeyJSZXNvdXJjZSI6Imh0dHBzOi8vaW1hZ2VzLmNvbWljby5pby9tYWdhemluZV9jb21pYy9jb250ZW50L29uZXRpbWV1cmwvamEvMzE3LzEzMDMxNy8xNi8xNjgzODYyOTUyMzY2LmVwdWIvKiIsIkNvbmRpdGlvbiI6eyJEYXRlTGVzc1RoYW4iOnsiQVdTOkVwb2NoVGltZSI6MTcxNTI1NjA5N319fV19&Signature=aOkt8mFmKCm8uuIH-f6kKsxDCHzqU90AeJQeJaHMSZu3iRjg-Wh9RTByJVNqDTe1URhHJ-rJEqBBhH57cA889~PX5z24at7biM9RBRwyfjCcpDV4Tjkyu3sI0LC6zGShAlQT-JwTeFqvQdX1tNaDMtTR3zUJGpZVsdl3Q1jyvYmB375K1IsgIm8N~JIHxOjX4g1j7vTeYrUD00k8Aij-KiIxfhxISAfL1t5fJEvI1m-D69qBkuWUw6eVisRAjjdpJCitE~kCYNNZY6zSIfUUeKLTTBWKGETQHifzcFOOOOR5yyDNzQ-gSfH9nwTi0wFVrToayTzQeRHF0G8Z6Cj7iw__&Key-Pair-Id=APKAIZOQXEUERT6TH4NQ\n",
      "i-0045.jpg\n",
      "45\n",
      "https://images.comico.io/magazine_comic/content/onetimeurl/ja/317/130317/16/1683862952366.epub/unzip/files/item/image/i-0046.jpg/dims/optimize?Policy=eyJTdGF0ZW1lbnQiOiBbeyJSZXNvdXJjZSI6Imh0dHBzOi8vaW1hZ2VzLmNvbWljby5pby9tYWdhemluZV9jb21pYy9jb250ZW50L29uZXRpbWV1cmwvamEvMzE3LzEzMDMxNy8xNi8xNjgzODYyOTUyMzY2LmVwdWIvKiIsIkNvbmRpdGlvbiI6eyJEYXRlTGVzc1RoYW4iOnsiQVdTOkVwb2NoVGltZSI6MTcxNTI1NjA5N319fV19&Signature=aOkt8mFmKCm8uuIH-f6kKsxDCHzqU90AeJQeJaHMSZu3iRjg-Wh9RTByJVNqDTe1URhHJ-rJEqBBhH57cA889~PX5z24at7biM9RBRwyfjCcpDV4Tjkyu3sI0LC6zGShAlQT-JwTeFqvQdX1tNaDMtTR3zUJGpZVsdl3Q1jyvYmB375K1IsgIm8N~JIHxOjX4g1j7vTeYrUD00k8Aij-KiIxfhxISAfL1t5fJEvI1m-D69qBkuWUw6eVisRAjjdpJCitE~kCYNNZY6zSIfUUeKLTTBWKGETQHifzcFOOOOR5yyDNzQ-gSfH9nwTi0wFVrToayTzQeRHF0G8Z6Cj7iw__&Key-Pair-Id=APKAIZOQXEUERT6TH4NQ\n",
      "i-0046.jpg\n",
      "46\n",
      "https://images.comico.io/magazine_comic/content/onetimeurl/ja/317/130317/16/1683862952366.epub/unzip/files/item/image/i-0047.jpg/dims/optimize?Policy=eyJTdGF0ZW1lbnQiOiBbeyJSZXNvdXJjZSI6Imh0dHBzOi8vaW1hZ2VzLmNvbWljby5pby9tYWdhemluZV9jb21pYy9jb250ZW50L29uZXRpbWV1cmwvamEvMzE3LzEzMDMxNy8xNi8xNjgzODYyOTUyMzY2LmVwdWIvKiIsIkNvbmRpdGlvbiI6eyJEYXRlTGVzc1RoYW4iOnsiQVdTOkVwb2NoVGltZSI6MTcxNTI1NjA5N319fV19&Signature=aOkt8mFmKCm8uuIH-f6kKsxDCHzqU90AeJQeJaHMSZu3iRjg-Wh9RTByJVNqDTe1URhHJ-rJEqBBhH57cA889~PX5z24at7biM9RBRwyfjCcpDV4Tjkyu3sI0LC6zGShAlQT-JwTeFqvQdX1tNaDMtTR3zUJGpZVsdl3Q1jyvYmB375K1IsgIm8N~JIHxOjX4g1j7vTeYrUD00k8Aij-KiIxfhxISAfL1t5fJEvI1m-D69qBkuWUw6eVisRAjjdpJCitE~kCYNNZY6zSIfUUeKLTTBWKGETQHifzcFOOOOR5yyDNzQ-gSfH9nwTi0wFVrToayTzQeRHF0G8Z6Cj7iw__&Key-Pair-Id=APKAIZOQXEUERT6TH4NQ\n",
      "i-0047.jpg\n",
      "47\n",
      "https://images.comico.io/magazine_comic/content/onetimeurl/ja/317/130317/16/1683862952366.epub/unzip/files/item/image/i-0048.jpg/dims/optimize?Policy=eyJTdGF0ZW1lbnQiOiBbeyJSZXNvdXJjZSI6Imh0dHBzOi8vaW1hZ2VzLmNvbWljby5pby9tYWdhemluZV9jb21pYy9jb250ZW50L29uZXRpbWV1cmwvamEvMzE3LzEzMDMxNy8xNi8xNjgzODYyOTUyMzY2LmVwdWIvKiIsIkNvbmRpdGlvbiI6eyJEYXRlTGVzc1RoYW4iOnsiQVdTOkVwb2NoVGltZSI6MTcxNTI1NjA5N319fV19&Signature=aOkt8mFmKCm8uuIH-f6kKsxDCHzqU90AeJQeJaHMSZu3iRjg-Wh9RTByJVNqDTe1URhHJ-rJEqBBhH57cA889~PX5z24at7biM9RBRwyfjCcpDV4Tjkyu3sI0LC6zGShAlQT-JwTeFqvQdX1tNaDMtTR3zUJGpZVsdl3Q1jyvYmB375K1IsgIm8N~JIHxOjX4g1j7vTeYrUD00k8Aij-KiIxfhxISAfL1t5fJEvI1m-D69qBkuWUw6eVisRAjjdpJCitE~kCYNNZY6zSIfUUeKLTTBWKGETQHifzcFOOOOR5yyDNzQ-gSfH9nwTi0wFVrToayTzQeRHF0G8Z6Cj7iw__&Key-Pair-Id=APKAIZOQXEUERT6TH4NQ\n",
      "i-0048.jpg\n",
      "48\n",
      "https://images.comico.io/magazine_comic/content/onetimeurl/ja/317/130317/16/1683862952366.epub/unzip/files/item/image/i-0049.jpg/dims/optimize?Policy=eyJTdGF0ZW1lbnQiOiBbeyJSZXNvdXJjZSI6Imh0dHBzOi8vaW1hZ2VzLmNvbWljby5pby9tYWdhemluZV9jb21pYy9jb250ZW50L29uZXRpbWV1cmwvamEvMzE3LzEzMDMxNy8xNi8xNjgzODYyOTUyMzY2LmVwdWIvKiIsIkNvbmRpdGlvbiI6eyJEYXRlTGVzc1RoYW4iOnsiQVdTOkVwb2NoVGltZSI6MTcxNTI1NjA5N319fV19&Signature=aOkt8mFmKCm8uuIH-f6kKsxDCHzqU90AeJQeJaHMSZu3iRjg-Wh9RTByJVNqDTe1URhHJ-rJEqBBhH57cA889~PX5z24at7biM9RBRwyfjCcpDV4Tjkyu3sI0LC6zGShAlQT-JwTeFqvQdX1tNaDMtTR3zUJGpZVsdl3Q1jyvYmB375K1IsgIm8N~JIHxOjX4g1j7vTeYrUD00k8Aij-KiIxfhxISAfL1t5fJEvI1m-D69qBkuWUw6eVisRAjjdpJCitE~kCYNNZY6zSIfUUeKLTTBWKGETQHifzcFOOOOR5yyDNzQ-gSfH9nwTi0wFVrToayTzQeRHF0G8Z6Cj7iw__&Key-Pair-Id=APKAIZOQXEUERT6TH4NQ\n",
      "i-0049.jpg\n",
      "49\n",
      "https://images.comico.io/magazine_comic/content/onetimeurl/ja/317/130317/16/1683862952366.epub/unzip/files/item/image/i-0050.jpg/dims/optimize?Policy=eyJTdGF0ZW1lbnQiOiBbeyJSZXNvdXJjZSI6Imh0dHBzOi8vaW1hZ2VzLmNvbWljby5pby9tYWdhemluZV9jb21pYy9jb250ZW50L29uZXRpbWV1cmwvamEvMzE3LzEzMDMxNy8xNi8xNjgzODYyOTUyMzY2LmVwdWIvKiIsIkNvbmRpdGlvbiI6eyJEYXRlTGVzc1RoYW4iOnsiQVdTOkVwb2NoVGltZSI6MTcxNTI1NjA5N319fV19&Signature=aOkt8mFmKCm8uuIH-f6kKsxDCHzqU90AeJQeJaHMSZu3iRjg-Wh9RTByJVNqDTe1URhHJ-rJEqBBhH57cA889~PX5z24at7biM9RBRwyfjCcpDV4Tjkyu3sI0LC6zGShAlQT-JwTeFqvQdX1tNaDMtTR3zUJGpZVsdl3Q1jyvYmB375K1IsgIm8N~JIHxOjX4g1j7vTeYrUD00k8Aij-KiIxfhxISAfL1t5fJEvI1m-D69qBkuWUw6eVisRAjjdpJCitE~kCYNNZY6zSIfUUeKLTTBWKGETQHifzcFOOOOR5yyDNzQ-gSfH9nwTi0wFVrToayTzQeRHF0G8Z6Cj7iw__&Key-Pair-Id=APKAIZOQXEUERT6TH4NQ\n",
      "i-0050.jpg\n",
      "50\n",
      "https://images.comico.io/magazine_comic/content/onetimeurl/ja/317/130317/16/1683862952366.epub/unzip/files/item/image/i-0051.jpg/dims/optimize?Policy=eyJTdGF0ZW1lbnQiOiBbeyJSZXNvdXJjZSI6Imh0dHBzOi8vaW1hZ2VzLmNvbWljby5pby9tYWdhemluZV9jb21pYy9jb250ZW50L29uZXRpbWV1cmwvamEvMzE3LzEzMDMxNy8xNi8xNjgzODYyOTUyMzY2LmVwdWIvKiIsIkNvbmRpdGlvbiI6eyJEYXRlTGVzc1RoYW4iOnsiQVdTOkVwb2NoVGltZSI6MTcxNTI1NjA5N319fV19&Signature=aOkt8mFmKCm8uuIH-f6kKsxDCHzqU90AeJQeJaHMSZu3iRjg-Wh9RTByJVNqDTe1URhHJ-rJEqBBhH57cA889~PX5z24at7biM9RBRwyfjCcpDV4Tjkyu3sI0LC6zGShAlQT-JwTeFqvQdX1tNaDMtTR3zUJGpZVsdl3Q1jyvYmB375K1IsgIm8N~JIHxOjX4g1j7vTeYrUD00k8Aij-KiIxfhxISAfL1t5fJEvI1m-D69qBkuWUw6eVisRAjjdpJCitE~kCYNNZY6zSIfUUeKLTTBWKGETQHifzcFOOOOR5yyDNzQ-gSfH9nwTi0wFVrToayTzQeRHF0G8Z6Cj7iw__&Key-Pair-Id=APKAIZOQXEUERT6TH4NQ\n",
      "i-0051.jpg\n",
      "51\n",
      "https://images.comico.io/magazine_comic/content/onetimeurl/ja/317/130317/16/1683862952366.epub/unzip/files/item/image/i-0052.jpg/dims/optimize?Policy=eyJTdGF0ZW1lbnQiOiBbeyJSZXNvdXJjZSI6Imh0dHBzOi8vaW1hZ2VzLmNvbWljby5pby9tYWdhemluZV9jb21pYy9jb250ZW50L29uZXRpbWV1cmwvamEvMzE3LzEzMDMxNy8xNi8xNjgzODYyOTUyMzY2LmVwdWIvKiIsIkNvbmRpdGlvbiI6eyJEYXRlTGVzc1RoYW4iOnsiQVdTOkVwb2NoVGltZSI6MTcxNTI1NjA5N319fV19&Signature=aOkt8mFmKCm8uuIH-f6kKsxDCHzqU90AeJQeJaHMSZu3iRjg-Wh9RTByJVNqDTe1URhHJ-rJEqBBhH57cA889~PX5z24at7biM9RBRwyfjCcpDV4Tjkyu3sI0LC6zGShAlQT-JwTeFqvQdX1tNaDMtTR3zUJGpZVsdl3Q1jyvYmB375K1IsgIm8N~JIHxOjX4g1j7vTeYrUD00k8Aij-KiIxfhxISAfL1t5fJEvI1m-D69qBkuWUw6eVisRAjjdpJCitE~kCYNNZY6zSIfUUeKLTTBWKGETQHifzcFOOOOR5yyDNzQ-gSfH9nwTi0wFVrToayTzQeRHF0G8Z6Cj7iw__&Key-Pair-Id=APKAIZOQXEUERT6TH4NQ\n",
      "i-0052.jpg\n"
     ]
    }
   ],
   "source": [
    "for i in range(10):\n",
    "    image_comic_i = image_comic_i + 1\n",
    "    print(image_comic_i)\n",
    "\n",
    "    # image_comic = driver.find_elements(By.CLASS_NAME, \"horizontal-comic-image\")\n",
    "    # image_comic = driver.find_element_by_xpath(\"//img[@class='horizontal-comic-image' and @data-replace-id='0']\")\n",
    "    image_comic = driver.find_elements(By.XPATH, f\"//img[@class='horizontal-comic-image' and @data-replace-id='{image_comic_i}']\")\n",
    "    # image_comic\n",
    "\n",
    "    image_comic_src = image_comic[1].get_attribute(\"src\")\n",
    "    print(image_comic_src)\n",
    "\n",
    "    image_comic_src_split_1 = image_comic_src.split(\"?\")\n",
    "    # image_comic_src_split_1\n",
    "\n",
    "    image_comic_src_split_2 = image_comic_src_split_1[0].split(\"/\")\n",
    "    # image_comic_src_split_2\n",
    "\n",
    "    image_comic_name = image_comic_src_split_2[-3]\n",
    "    print(image_comic_name)\n",
    "\n",
    "    if image_comic_name.split(\".\")[-1] != \"jpg\":\n",
    "        image_comic_i = image_comic_i - 1\n",
    "        sys.exit(1)\n",
    "\n",
    "    urllib.request.urlretrieve(image_comic_src, f\"{image_dir}/{image_comic_name}\")\n",
    "\n",
    "    time.sleep(1)"
   ]
  },
  {
   "cell_type": "code",
   "execution_count": null,
   "metadata": {},
   "outputs": [],
   "source": []
  }
 ],
 "metadata": {
  "kernelspec": {
   "display_name": "py311-selenium4160",
   "language": "python",
   "name": "python3"
  },
  "language_info": {
   "codemirror_mode": {
    "name": "ipython",
    "version": 3
   },
   "file_extension": ".py",
   "mimetype": "text/x-python",
   "name": "python",
   "nbconvert_exporter": "python",
   "pygments_lexer": "ipython3",
   "version": "3.11.5"
  }
 },
 "nbformat": 4,
 "nbformat_minor": 2
}
