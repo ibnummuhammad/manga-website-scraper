{
 "cells": [
  {
   "cell_type": "code",
   "execution_count": 108,
   "metadata": {},
   "outputs": [],
   "source": [
    "import datetime\n",
    "import os\n",
    "import urllib\n",
    "import sys\n",
    "import time\n",
    "\n",
    "import requests\n",
    "from selenium import webdriver\n",
    "from selenium.webdriver.common.by import By"
   ]
  },
  {
   "cell_type": "code",
   "execution_count": 162,
   "metadata": {},
   "outputs": [],
   "source": [
    "title_dict = {\n",
    "    \"130317\": \"doraemon_adventure\",\n",
    "    \"10692\": \"naruto\"\n",
    "}"
   ]
  },
  {
   "cell_type": "code",
   "execution_count": 3,
   "metadata": {},
   "outputs": [],
   "source": [
    "driver = webdriver.Chrome()"
   ]
  },
  {
   "cell_type": "code",
   "execution_count": 4,
   "metadata": {},
   "outputs": [],
   "source": [
    "driver.get(\"https://www.comico.jp/\")"
   ]
  },
  {
   "cell_type": "code",
   "execution_count": 5,
   "metadata": {},
   "outputs": [],
   "source": [
    "headers  = {'User-Agent': 'Mozilla/5.0 (X11; Linux x86_64) AppleWebKit/537.11 (KHTML, like Gecko) Chrome/23.0.1271.64 Safari/537.11',\n",
    "       'Accept': 'text/html,application/xhtml+xml,application/xml;q=0.9,*/*;q=0.8',\n",
    "       'Accept-Charset': 'ISO-8859-1,utf-8;q=0.7,*;q=0.3',\n",
    "       'Accept-Encoding': 'none',\n",
    "       'Accept-Language': 'en-US,en;q=0.8',\n",
    "       'Connection': 'keep-alive'}"
   ]
  },
  {
   "cell_type": "code",
   "execution_count": 163,
   "metadata": {},
   "outputs": [],
   "source": [
    "comic_url = driver.current_url"
   ]
  },
  {
   "cell_type": "code",
   "execution_count": 165,
   "metadata": {},
   "outputs": [
    {
     "data": {
      "text/plain": [
       "['https:',\n",
       " '',\n",
       " 'www.comico.jp',\n",
       " 'magazine_comic',\n",
       " '10692',\n",
       " 'chapter',\n",
       " '58',\n",
       " 'product']"
      ]
     },
     "execution_count": 165,
     "metadata": {},
     "output_type": "execute_result"
    }
   ],
   "source": [
    "comic_url_split = comic_url.split(\"/\")\n",
    "comic_url_split"
   ]
  },
  {
   "cell_type": "code",
   "execution_count": 166,
   "metadata": {},
   "outputs": [
    {
     "data": {
      "text/plain": [
       "'10692'"
      ]
     },
     "execution_count": 166,
     "metadata": {},
     "output_type": "execute_result"
    }
   ],
   "source": [
    "comic_title_encoded = comic_url_split[4]\n",
    "comic_title_encoded"
   ]
  },
  {
   "cell_type": "code",
   "execution_count": 167,
   "metadata": {},
   "outputs": [
    {
     "data": {
      "text/plain": [
       "'naruto'"
      ]
     },
     "execution_count": 167,
     "metadata": {},
     "output_type": "execute_result"
    }
   ],
   "source": [
    "title = title_dict[comic_title_encoded]\n",
    "title"
   ]
  },
  {
   "cell_type": "code",
   "execution_count": 168,
   "metadata": {},
   "outputs": [
    {
     "data": {
      "text/plain": [
       "'58'"
      ]
     },
     "execution_count": 168,
     "metadata": {},
     "output_type": "execute_result"
    }
   ],
   "source": [
    "comic_volume = comic_url_split[6]\n",
    "comic_volume"
   ]
  },
  {
   "cell_type": "code",
   "execution_count": 169,
   "metadata": {},
   "outputs": [
    {
     "data": {
      "text/plain": [
       "'../read-manga-online-website/comico/naruto/58'"
      ]
     },
     "execution_count": 169,
     "metadata": {},
     "output_type": "execute_result"
    }
   ],
   "source": [
    "image_dir = f\"../read-manga-online-website/comico/{title}/{comic_volume}\"\n",
    "image_dir"
   ]
  },
  {
   "cell_type": "code",
   "execution_count": 170,
   "metadata": {},
   "outputs": [
    {
     "name": "stdout",
     "output_type": "stream",
     "text": [
      "../read-manga-online-website/comico/naruto/58\n"
     ]
    }
   ],
   "source": [
    "if not os.path.exists(image_dir):\n",
    "    os.makedirs(image_dir)\n",
    "    print(image_dir)"
   ]
  },
  {
   "cell_type": "code",
   "execution_count": 138,
   "metadata": {},
   "outputs": [],
   "source": [
    "driver.refresh()"
   ]
  },
  {
   "cell_type": "code",
   "execution_count": 139,
   "metadata": {},
   "outputs": [],
   "source": [
    "image_comic_i = 0"
   ]
  },
  {
   "cell_type": "code",
   "execution_count": 172,
   "metadata": {},
   "outputs": [
    {
     "data": {
      "text/plain": [
       "0"
      ]
     },
     "execution_count": 172,
     "metadata": {},
     "output_type": "execute_result"
    }
   ],
   "source": [
    "image_comic_i"
   ]
  },
  {
   "cell_type": "code",
   "execution_count": 141,
   "metadata": {},
   "outputs": [
    {
     "data": {
      "text/plain": [
       "'https://resources.comico.io/deprecated/spn/blank/img_516x306.png'"
      ]
     },
     "execution_count": 141,
     "metadata": {},
     "output_type": "execute_result"
    }
   ],
   "source": [
    "image_comic_src"
   ]
  },
  {
   "cell_type": "code",
   "execution_count": 142,
   "metadata": {},
   "outputs": [],
   "source": [
    "# start downloading images"
   ]
  },
  {
   "cell_type": "code",
   "execution_count": 178,
   "metadata": {},
   "outputs": [
    {
     "name": "stdout",
     "output_type": "stream",
     "text": [
      "image_comic_i: 36 | image_comic_name: 08_873770_872840_2_037_001.jpg\n",
      "image_comic_i: 37 | image_comic_name: 08_873770_872840_2_038_001.jpg\n",
      "image_comic_i: 38 | image_comic_name: 08_873770_872840_2_039_001.jpg\n",
      "image_comic_i: 39 | image_comic_name: 08_873770_872840_2_040_001.jpg\n",
      "image_comic_i: 40 | image_comic_name: 08_873770_872840_2_041_001.jpg\n",
      "image_comic_i: 41 | image_comic_name: 08_873770_872840_2_042_001.jpg\n",
      "image_comic_i: 42 | image_comic_name: 08_873770_872840_2_043_001.jpg\n",
      "image_comic_i: 43 | image_comic_name: 08_873770_872840_2_044_001.jpg\n",
      "image_comic_i: 44 | image_comic_name: 08_873770_872840_2_045_001.jpg\n",
      "image_comic_i: 45 | image_comic_name: 08_873770_872840_2_046_001.jpg\n",
      "image_comic_i: 46 | image_comic_name: 08_873770_872840_2_047_001.jpg\n",
      "image_comic_i: 47 | image_comic_name: 08_873770_872840_2_048_001.jpg\n",
      "image_comic_i: 48 | image_comic_name: 08_873770_872840_2_049_001.jpg\n",
      "image_comic_i: 49 | image_comic_name: 08_873770_872840_2_050_001.jpg\n",
      "image_comic_i: 50 | image_comic_name: 08_873770_872840_2_051_001.jpg\n",
      "image_comic_i: 51 | image_comic_name: 08_873770_872840_2_052_001.jpg\n",
      "image_comic_i: 52 | image_comic_name: 08_873770_872840_2_053_001.jpg\n",
      "image_comic_i: 53 | image_comic_name: 08_873770_872840_2_054_001.jpg\n",
      "image_comic_i: 54 | image_comic_name: 08_873770_872840_2_055_001.jpg\n",
      "image_comic_i: 55 | image_comic_name: 08_873770_872840_2_056_001.jpg\n",
      "image_comic_i: 56 | image_comic_name: 08_873770_872840_2_057_001.jpg\n",
      "image_comic_i: 57 | image_comic_name: 08_873770_872840_2_058_001.jpg\n",
      "image_comic_i: 58 | image_comic_name: 08_873770_872840_2_059_001.jpg\n",
      "image_comic_i: 59 | image_comic_name: 08_873770_872840_2_060_001.jpg\n",
      "image_comic_i: 60 | image_comic_name: 08_873770_872840_2_061_001.jpg\n",
      "image_comic_i: 61 | image_comic_name: 08_873770_872840_2_062_001.jpg\n",
      "image_comic_i: 62 | image_comic_name: 08_873770_872840_2_063_001.jpg\n",
      "image_comic_i: 63 | image_comic_name: 08_873770_872840_2_064_001.jpg\n",
      "image_comic_i: 64 | image_comic_name: 08_873770_872840_2_065_001.jpg\n",
      "image_comic_i: 65 | image_comic_name: 08_873770_872840_2_066_001.jpg\n",
      "image_comic_i: 66 | image_comic_name: 08_873770_872840_2_067_001.jpg\n",
      "image_comic_i: 67 | image_comic_name: 08_873770_872840_2_068_001.jpg\n",
      "image_comic_i: 68 | image_comic_name: 08_873770_872840_2_069_001.jpg\n",
      "image_comic_i: 69 | image_comic_name: 08_873770_872840_2_070_001.jpg\n",
      "image_comic_i: 70 | image_comic_name: 08_873770_872840_2_071_001.jpg\n",
      "image_comic_i: 71 | image_comic_name: 08_873770_872840_2_072_001.jpg\n",
      "image_comic_i: 72 | image_comic_name: 08_873770_872840_2_073_001.jpg\n",
      "image_comic_i: 73 | image_comic_name: 08_873770_872840_2_074_001.jpg\n",
      "image_comic_i: 74 | image_comic_name: 08_873770_872840_2_075_001.jpg\n",
      "image_comic_i: 75 | image_comic_name: 08_873770_872840_2_076_001.jpg\n"
     ]
    }
   ],
   "source": [
    "for i in range(40):\n",
    "    image_comic_i = image_comic_i + 1\n",
    "    print(f\"image_comic_i: {image_comic_i}\", end =\" | \")\n",
    "\n",
    "    image_comic = driver.find_elements(By.XPATH, f\"//img[@class='horizontal-comic-image' and @data-replace-id='{image_comic_i}']\")\n",
    "\n",
    "    image_comic_src = image_comic[1].get_attribute(\"src\")\n",
    "\n",
    "    image_comic_src_split_1 = image_comic_src.split(\"?\")\n",
    "\n",
    "    image_comic_src_split_2 = image_comic_src_split_1[0].split(\"/\")\n",
    "\n",
    "    image_comic_name = image_comic_src_split_2[-3]\n",
    "    print(f\"image_comic_name: {image_comic_name}\")\n",
    "\n",
    "    if image_comic_name.split(\".\")[-1] != \"jpg\":\n",
    "        image_comic_i = image_comic_i - 1\n",
    "        sys.exit(1)\n",
    "\n",
    "    urllib.request.urlretrieve(image_comic_src, f\"{image_dir}/{image_comic_name}\")\n",
    "\n",
    "    time.sleep(1)"
   ]
  },
  {
   "cell_type": "code",
   "execution_count": 175,
   "metadata": {},
   "outputs": [
    {
     "data": {
      "text/plain": [
       "'https://resources.comico.io/deprecated/spn/blank/img_516x306.png'"
      ]
     },
     "execution_count": 175,
     "metadata": {},
     "output_type": "execute_result"
    }
   ],
   "source": [
    "image_comic_src"
   ]
  }
 ],
 "metadata": {
  "kernelspec": {
   "display_name": "py311-selenium4160",
   "language": "python",
   "name": "python3"
  },
  "language_info": {
   "codemirror_mode": {
    "name": "ipython",
    "version": 3
   },
   "file_extension": ".py",
   "mimetype": "text/x-python",
   "name": "python",
   "nbconvert_exporter": "python",
   "pygments_lexer": "ipython3",
   "version": "3.11.5"
  }
 },
 "nbformat": 4,
 "nbformat_minor": 2
}
