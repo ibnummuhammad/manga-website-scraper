{
 "cells": [
  {
   "cell_type": "code",
   "execution_count": 1,
   "metadata": {},
   "outputs": [],
   "source": [
    "import os\n",
    "import time\n",
    "import urllib\n",
    "\n",
    "from selenium import webdriver\n",
    "from selenium.webdriver.common.by import By"
   ]
  },
  {
   "cell_type": "code",
   "execution_count": 153,
   "metadata": {},
   "outputs": [],
   "source": [
    "title_dict = {\n",
    "    \"635d54596d960eb0ac756acd\": \"death_note\",\n",
    "    \"63c921ef26e3f805c225e1bd\": \"hikaru_no_go\",\n",
    "    \"635d54596d960eb0ac756a35\": \"hunter_x_hunter\",\n",
    "    \"635d54596d960eb0ac756a29\": \"naruto\",\n",
    "    \"635d54596d960eb0ac756a44\": \"one_piece\",\n",
    "}"
   ]
  },
  {
   "cell_type": "code",
   "execution_count": 2,
   "metadata": {},
   "outputs": [],
   "source": [
    "driver = webdriver.Chrome()"
   ]
  },
  {
   "cell_type": "code",
   "execution_count": 3,
   "metadata": {},
   "outputs": [],
   "source": [
    "driver.get(\"https://bilingualmanga.net/manga/635d54596d960eb0ac756a35?lang=jp\")"
   ]
  },
  {
   "cell_type": "code",
   "execution_count": 156,
   "metadata": {},
   "outputs": [
    {
     "name": "stdout",
     "output_type": "stream",
     "text": [
      "../read-manga-online-website/assets/death_note/12/DEATH-NOTE12_021.jpg\n",
      "../read-manga-online-website/assets/death_note/12/DEATH-NOTE12_022.jpg\n",
      "../read-manga-online-website/assets/death_note/12/DEATH-NOTE12_023.jpg\n",
      "../read-manga-online-website/assets/death_note/12/DEATH-NOTE12_024.jpg\n",
      "../read-manga-online-website/assets/death_note/12/DEATH-NOTE12_025.jpg\n",
      "../read-manga-online-website/assets/death_note/12/DEATH-NOTE12_026.jpg\n",
      "../read-manga-online-website/assets/death_note/12/DEATH-NOTE12_027.jpg\n",
      "../read-manga-online-website/assets/death_note/12/DEATH-NOTE12_028.jpg\n",
      "../read-manga-online-website/assets/death_note/12/DEATH-NOTE12_029.jpg\n",
      "../read-manga-online-website/assets/death_note/12/DEATH-NOTE12_030.jpg\n",
      "../read-manga-online-website/assets/death_note/12/DEATH-NOTE12_031.jpg\n",
      "../read-manga-online-website/assets/death_note/12/DEATH-NOTE12_032.jpg\n"
     ]
    },
    {
     "ename": "ElementClickInterceptedException",
     "evalue": "Message: element click intercepted: Element <img id=\"ch-i\" src=\"https://ipfs.io/ipfs/bafybeiakp5syyhmdrezr2l45k6xpmyz6pggva5377mcvh3fwjgjjvjgvea/235a60b21ca45b7f6259521bda4fcf75/DEATH-NOTE12_032.jpg\" alt=\"ch-i\" style=\"margin: auto; max-height: 100vh;\" class=\"svelte-12ixsmd\"> is not clickable at point (579, 600). Other element would receive the click: <div class=\"ocrtext\" style=\"font-size:22px;writing-mode:vertical-rl;position:absolute;top:434px;left:534px;width:51px;height:266px;display:block;white-space: nowrap;z-index:978;\">...</div>\n  (Session info: chrome=114.0.5735.198)\nStacktrace:\n#0 0x560881dfd4e3 <unknown>\n#1 0x560881b2cc76 <unknown>\n#2 0x560881b6e9d4 <unknown>\n#3 0x560881b6ccbd <unknown>\n#4 0x560881b6ad2e <unknown>\n#5 0x560881b6a10f <unknown>\n#6 0x560881b5f1da <unknown>\n#7 0x560881b88012 <unknown>\n#8 0x560881b5eb03 <unknown>\n#9 0x560881b881de <unknown>\n#10 0x560881ba030e <unknown>\n#11 0x560881b87de3 <unknown>\n#12 0x560881b5d2dd <unknown>\n#13 0x560881b5e34e <unknown>\n#14 0x560881dbd3e4 <unknown>\n#15 0x560881dc13d7 <unknown>\n#16 0x560881dcbb20 <unknown>\n#17 0x560881dc2023 <unknown>\n#18 0x560881d901aa <unknown>\n#19 0x560881de66b8 <unknown>\n#20 0x560881de6847 <unknown>\n#21 0x560881df6243 <unknown>\n#22 0x7f51be7adb43 <unknown>\n",
     "output_type": "error",
     "traceback": [
      "\u001b[0;31m---------------------------------------------------------------------------\u001b[0m",
      "\u001b[0;31mElementClickInterceptedException\u001b[0m          Traceback (most recent call last)",
      "Cell \u001b[0;32mIn[156], line 29\u001b[0m\n\u001b[1;32m     25\u001b[0m \u001b[39mprint\u001b[39m(url)\n\u001b[1;32m     27\u001b[0m \u001b[39mwhile\u001b[39;00m \u001b[39mTrue\u001b[39;00m:\n\u001b[1;32m     28\u001b[0m \u001b[39m# for i in range(4):\u001b[39;00m\n\u001b[0;32m---> 29\u001b[0m     img\u001b[39m.\u001b[39;49mclick()\n\u001b[1;32m     30\u001b[0m     \u001b[39m# time.sleep(2)\u001b[39;00m\n\u001b[1;32m     32\u001b[0m     url_list \u001b[39m=\u001b[39m driver\u001b[39m.\u001b[39mcurrent_url\u001b[39m.\u001b[39msplit(\u001b[39m\"\u001b[39m\u001b[39m&\u001b[39m\u001b[39m\"\u001b[39m)\n",
      "File \u001b[0;32m~/.venv/lib/python3.10/site-packages/selenium/webdriver/remote/webelement.py:94\u001b[0m, in \u001b[0;36mWebElement.click\u001b[0;34m(self)\u001b[0m\n\u001b[1;32m     92\u001b[0m \u001b[39mdef\u001b[39;00m \u001b[39mclick\u001b[39m(\u001b[39mself\u001b[39m) \u001b[39m-\u001b[39m\u001b[39m>\u001b[39m \u001b[39mNone\u001b[39;00m:\n\u001b[1;32m     93\u001b[0m \u001b[39m    \u001b[39m\u001b[39m\"\"\"Clicks the element.\"\"\"\u001b[39;00m\n\u001b[0;32m---> 94\u001b[0m     \u001b[39mself\u001b[39;49m\u001b[39m.\u001b[39;49m_execute(Command\u001b[39m.\u001b[39;49mCLICK_ELEMENT)\n",
      "File \u001b[0;32m~/.venv/lib/python3.10/site-packages/selenium/webdriver/remote/webelement.py:395\u001b[0m, in \u001b[0;36mWebElement._execute\u001b[0;34m(self, command, params)\u001b[0m\n\u001b[1;32m    393\u001b[0m     params \u001b[39m=\u001b[39m {}\n\u001b[1;32m    394\u001b[0m params[\u001b[39m\"\u001b[39m\u001b[39mid\u001b[39m\u001b[39m\"\u001b[39m] \u001b[39m=\u001b[39m \u001b[39mself\u001b[39m\u001b[39m.\u001b[39m_id\n\u001b[0;32m--> 395\u001b[0m \u001b[39mreturn\u001b[39;00m \u001b[39mself\u001b[39;49m\u001b[39m.\u001b[39;49m_parent\u001b[39m.\u001b[39;49mexecute(command, params)\n",
      "File \u001b[0;32m~/.venv/lib/python3.10/site-packages/selenium/webdriver/remote/webdriver.py:346\u001b[0m, in \u001b[0;36mWebDriver.execute\u001b[0;34m(self, driver_command, params)\u001b[0m\n\u001b[1;32m    344\u001b[0m response \u001b[39m=\u001b[39m \u001b[39mself\u001b[39m\u001b[39m.\u001b[39mcommand_executor\u001b[39m.\u001b[39mexecute(driver_command, params)\n\u001b[1;32m    345\u001b[0m \u001b[39mif\u001b[39;00m response:\n\u001b[0;32m--> 346\u001b[0m     \u001b[39mself\u001b[39;49m\u001b[39m.\u001b[39;49merror_handler\u001b[39m.\u001b[39;49mcheck_response(response)\n\u001b[1;32m    347\u001b[0m     response[\u001b[39m\"\u001b[39m\u001b[39mvalue\u001b[39m\u001b[39m\"\u001b[39m] \u001b[39m=\u001b[39m \u001b[39mself\u001b[39m\u001b[39m.\u001b[39m_unwrap_value(response\u001b[39m.\u001b[39mget(\u001b[39m\"\u001b[39m\u001b[39mvalue\u001b[39m\u001b[39m\"\u001b[39m, \u001b[39mNone\u001b[39;00m))\n\u001b[1;32m    348\u001b[0m     \u001b[39mreturn\u001b[39;00m response\n",
      "File \u001b[0;32m~/.venv/lib/python3.10/site-packages/selenium/webdriver/remote/errorhandler.py:245\u001b[0m, in \u001b[0;36mErrorHandler.check_response\u001b[0;34m(self, response)\u001b[0m\n\u001b[1;32m    243\u001b[0m         alert_text \u001b[39m=\u001b[39m value[\u001b[39m\"\u001b[39m\u001b[39malert\u001b[39m\u001b[39m\"\u001b[39m]\u001b[39m.\u001b[39mget(\u001b[39m\"\u001b[39m\u001b[39mtext\u001b[39m\u001b[39m\"\u001b[39m)\n\u001b[1;32m    244\u001b[0m     \u001b[39mraise\u001b[39;00m exception_class(message, screen, stacktrace, alert_text)  \u001b[39m# type: ignore[call-arg]  # mypy is not smart enough here\u001b[39;00m\n\u001b[0;32m--> 245\u001b[0m \u001b[39mraise\u001b[39;00m exception_class(message, screen, stacktrace)\n",
      "\u001b[0;31mElementClickInterceptedException\u001b[0m: Message: element click intercepted: Element <img id=\"ch-i\" src=\"https://ipfs.io/ipfs/bafybeiakp5syyhmdrezr2l45k6xpmyz6pggva5377mcvh3fwjgjjvjgvea/235a60b21ca45b7f6259521bda4fcf75/DEATH-NOTE12_032.jpg\" alt=\"ch-i\" style=\"margin: auto; max-height: 100vh;\" class=\"svelte-12ixsmd\"> is not clickable at point (579, 600). Other element would receive the click: <div class=\"ocrtext\" style=\"font-size:22px;writing-mode:vertical-rl;position:absolute;top:434px;left:534px;width:51px;height:266px;display:block;white-space: nowrap;z-index:978;\">...</div>\n  (Session info: chrome=114.0.5735.198)\nStacktrace:\n#0 0x560881dfd4e3 <unknown>\n#1 0x560881b2cc76 <unknown>\n#2 0x560881b6e9d4 <unknown>\n#3 0x560881b6ccbd <unknown>\n#4 0x560881b6ad2e <unknown>\n#5 0x560881b6a10f <unknown>\n#6 0x560881b5f1da <unknown>\n#7 0x560881b88012 <unknown>\n#8 0x560881b5eb03 <unknown>\n#9 0x560881b881de <unknown>\n#10 0x560881ba030e <unknown>\n#11 0x560881b87de3 <unknown>\n#12 0x560881b5d2dd <unknown>\n#13 0x560881b5e34e <unknown>\n#14 0x560881dbd3e4 <unknown>\n#15 0x560881dc13d7 <unknown>\n#16 0x560881dcbb20 <unknown>\n#17 0x560881dc2023 <unknown>\n#18 0x560881d901aa <unknown>\n#19 0x560881de66b8 <unknown>\n#20 0x560881de6847 <unknown>\n#21 0x560881df6243 <unknown>\n#22 0x7f51be7adb43 <unknown>\n"
     ]
    }
   ],
   "source": [
    "url_list = driver.current_url.split(\"&\")\n",
    "for url_split in url_list:\n",
    "    if \"chjp\" in url_split:\n",
    "        volume = url_split.split(\"=\")[-1]\n",
    "        break\n",
    "volume = int(volume) + 1\n",
    "\n",
    "title_encoded = driver.current_url.split(\"/\")[-1]\n",
    "title_encoded = title_encoded.split(\"?\")[0]\n",
    "title = title_dict[title_encoded]\n",
    "\n",
    "dir = f\"../read-manga-online-website/assets/{title}/{str(volume)}\"\n",
    "\n",
    "if not os.path.exists(dir):\n",
    "    os.makedirs(dir)\n",
    "    print(dir)\n",
    "\n",
    "img = driver.find_element(By.ID, \"ch-i\")\n",
    "img_src = img.get_attribute(\"src\")\n",
    "img_chapter = img_src.split(\"/\")[-1]\n",
    "\n",
    "url = f\"{dir}/{img_chapter}\"\n",
    "urllib.request.urlretrieve(img_src, url)\n",
    "\n",
    "print(url)\n",
    "\n",
    "while True:\n",
    "# for i in range(4):\n",
    "    img.click()\n",
    "    # time.sleep(2)\n",
    "\n",
    "    url_list = driver.current_url.split(\"&\")\n",
    "    for url_split in url_list:\n",
    "        if \"chjp\" in url_split:\n",
    "            volume = url_split.split(\"=\")[-1]\n",
    "            break\n",
    "    volume = int(volume) + 1\n",
    "\n",
    "    title_encoded = driver.current_url.split(\"/\")[-1]\n",
    "    title_encoded = title_encoded.split(\"?\")[0]\n",
    "    title = title_dict[title_encoded]\n",
    "\n",
    "    dir = f\"../read-manga-online-website/assets/{title}/{str(volume)}\"\n",
    "\n",
    "    if not os.path.exists(dir):\n",
    "        os.makedirs(dir)\n",
    "        print(dir)\n",
    "\n",
    "    img = driver.find_element(By.ID, \"ch-i\")\n",
    "    img_src = img.get_attribute(\"src\")\n",
    "    img_chapter = img_src.split(\"/\")[-1]\n",
    "\n",
    "    url = f\"{dir}/{img_chapter}\"\n",
    "    urllib.request.urlretrieve(img_src, url)\n",
    "\n",
    "    print(url)"
   ]
  }
 ],
 "metadata": {
  "kernelspec": {
   "display_name": ".venv",
   "language": "python",
   "name": "python3"
  },
  "language_info": {
   "codemirror_mode": {
    "name": "ipython",
    "version": 3
   },
   "file_extension": ".py",
   "mimetype": "text/x-python",
   "name": "python",
   "nbconvert_exporter": "python",
   "pygments_lexer": "ipython3",
   "version": "3.10.6"
  },
  "orig_nbformat": 4
 },
 "nbformat": 4,
 "nbformat_minor": 2
}
