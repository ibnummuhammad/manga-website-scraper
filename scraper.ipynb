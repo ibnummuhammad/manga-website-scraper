{
 "cells": [
  {
   "cell_type": "code",
   "execution_count": 7,
   "metadata": {},
   "outputs": [],
   "source": [
    "import datetime\n",
    "import os\n",
    "import urllib\n",
    "\n",
    "from selenium import webdriver\n",
    "from selenium.webdriver.common.by import By"
   ]
  },
  {
   "cell_type": "code",
   "execution_count": 2,
   "metadata": {},
   "outputs": [],
   "source": [
    "title_dict = {\n",
    "    \"635d54596d960eb0ac756a45\": \"bleach\",\n",
    "    \"635d54596d960eb0ac756acd\": \"death_note\",\n",
    "    \"635d545a6d960eb0ac756b09\": \"doraemon\",\n",
    "    \"648c426e6b57a859ab4dbddb\": \"fairy_tail\",\n",
    "    \"63c921ef26e3f805c225e1bd\": \"hikaru_no_go\",\n",
    "    \"635d54596d960eb0ac756a35\": \"hunter_x_hunter\",\n",
    "    \"6457dd709b4f8f9d210b8ceb\": \"meitantei_konan\",\n",
    "    \"635d54596d960eb0ac756a29\": \"naruto\",\n",
    "    \"635d54596d960eb0ac756a44\": \"one_piece\",\n",
    "    \"635d54596d960eb0ac756ac9\": \"shingeki_no_kyojin\",\n",
    "}"
   ]
  },
  {
   "cell_type": "code",
   "execution_count": 3,
   "metadata": {},
   "outputs": [],
   "source": [
    "driver = webdriver.Chrome()"
   ]
  },
  {
   "cell_type": "code",
   "execution_count": 4,
   "metadata": {},
   "outputs": [],
   "source": [
    "driver.get(\"https://bilingualmanga.net\")"
   ]
  },
  {
   "cell_type": "code",
   "execution_count": 9,
   "metadata": {},
   "outputs": [
    {
     "name": "stdout",
     "output_type": "stream",
     "text": [
      "../read-manga-online-website/assets/fairy_tail/23/0051.jpg\n",
      "../read-manga-online-website/assets/fairy_tail/23/0052.jpg - 20:35:05\n",
      "../read-manga-online-website/assets/fairy_tail/23/0053.jpg - 20:35:06\n",
      "../read-manga-online-website/assets/fairy_tail/23/0054.jpg - 20:35:06\n",
      "../read-manga-online-website/assets/fairy_tail/23/0055.jpg - 20:35:07\n",
      "../read-manga-online-website/assets/fairy_tail/23/0056.jpg - 20:35:07\n",
      "../read-manga-online-website/assets/fairy_tail/23/0057.jpg - 20:35:08\n",
      "../read-manga-online-website/assets/fairy_tail/23/0058.jpg - 20:35:09\n",
      "../read-manga-online-website/assets/fairy_tail/23/0059.jpg - 20:35:10\n",
      "../read-manga-online-website/assets/fairy_tail/23/0060.jpg - 20:35:10\n",
      "../read-manga-online-website/assets/fairy_tail/23/0061.jpg - 20:35:11\n",
      "../read-manga-online-website/assets/fairy_tail/23/0062.jpg - 20:35:11\n",
      "../read-manga-online-website/assets/fairy_tail/23/0063.jpg - 20:35:12\n",
      "../read-manga-online-website/assets/fairy_tail/23/0064.jpg - 20:35:12\n",
      "../read-manga-online-website/assets/fairy_tail/23/0065.jpg - 20:35:14\n",
      "../read-manga-online-website/assets/fairy_tail/23/0066.jpg - 20:35:14\n",
      "../read-manga-online-website/assets/fairy_tail/23/0067.jpg - 20:35:14\n",
      "../read-manga-online-website/assets/fairy_tail/23/0068.jpg - 20:35:15\n",
      "../read-manga-online-website/assets/fairy_tail/23/0069.jpg - 20:35:15\n",
      "../read-manga-online-website/assets/fairy_tail/23/0070.jpg - 20:35:16\n",
      "../read-manga-online-website/assets/fairy_tail/23/0071.jpg - 20:35:16\n",
      "../read-manga-online-website/assets/fairy_tail/23/0072.jpg - 20:35:16\n"
     ]
    }
   ],
   "source": [
    "for i in range(0, 3):\n",
    "    try:\n",
    "        url_list = driver.current_url.split(\"&\")\n",
    "        for url_split in url_list:\n",
    "            if \"chjp\" in url_split:\n",
    "                volume = url_split.split(\"=\")[-1]\n",
    "                break\n",
    "        volume = int(volume) + 1\n",
    "\n",
    "        title_encoded = driver.current_url.split(\"/\")[-1]\n",
    "        title_encoded = title_encoded.split(\"?\")[0]\n",
    "        title = title_dict[title_encoded]\n",
    "\n",
    "        dir = f\"../read-manga-online-website/assets/{title}/{str(volume)}\"\n",
    "\n",
    "        if not os.path.exists(dir):\n",
    "            os.makedirs(dir)\n",
    "            print(dir)\n",
    "\n",
    "        img = driver.find_element(By.ID, \"ch-i\")\n",
    "        img_src = img.get_attribute(\"src\")\n",
    "        img_chapter = img_src.split(\"/\")[-1]\n",
    "\n",
    "        url = f\"{dir}/{img_chapter}\"\n",
    "        urllib.request.urlretrieve(img_src, url)\n",
    "\n",
    "        print(f\"{url} - {datetime.datetime.now().strftime('%H:%M:%S')}\")\n",
    "\n",
    "        while True:\n",
    "            img.click()\n",
    "\n",
    "            url_list = driver.current_url.split(\"&\")\n",
    "            for url_split in url_list:\n",
    "                if \"chjp\" in url_split:\n",
    "                    volume = url_split.split(\"=\")[-1]\n",
    "                    break\n",
    "            volume = int(volume) + 1\n",
    "\n",
    "            title_encoded = driver.current_url.split(\"/\")[-1]\n",
    "            title_encoded = title_encoded.split(\"?\")[0]\n",
    "            title = title_dict[title_encoded]\n",
    "\n",
    "            dir = f\"../read-manga-online-website/assets/{title}/{str(volume)}\"\n",
    "\n",
    "            if not os.path.exists(dir):\n",
    "                os.makedirs(dir)\n",
    "                print(dir)\n",
    "\n",
    "            img = driver.find_element(By.ID, \"ch-i\")\n",
    "            img_src = img.get_attribute(\"src\")\n",
    "            img_chapter = img_src.split(\"/\")[-1]\n",
    "\n",
    "            url = f\"{dir}/{img_chapter}\"\n",
    "            urllib.request.urlretrieve(img_src, url)\n",
    "\n",
    "            print(f\"{url} - {datetime.datetime.now().strftime('%H:%M:%S')}\")\n",
    "    except:\n",
    "        print(f\"ulanglagi {str(i)}\")\n",
    "        continue"
   ]
  },
  {
   "cell_type": "code",
   "execution_count": 8,
   "metadata": {},
   "outputs": [
    {
     "data": {
      "text/plain": [
       "'20:34:19'"
      ]
     },
     "execution_count": 8,
     "metadata": {},
     "output_type": "execute_result"
    }
   ],
   "source": [
    "datetime.datetime.now().strftime(\"%H:%M:%S\")"
   ]
  }
 ],
 "metadata": {
  "kernelspec": {
   "display_name": ".venv",
   "language": "python",
   "name": "python3"
  },
  "language_info": {
   "codemirror_mode": {
    "name": "ipython",
    "version": 3
   },
   "file_extension": ".py",
   "mimetype": "text/x-python",
   "name": "python",
   "nbconvert_exporter": "python",
   "pygments_lexer": "ipython3",
   "version": "3.10.6"
  },
  "orig_nbformat": 4
 },
 "nbformat": 4,
 "nbformat_minor": 2
}
